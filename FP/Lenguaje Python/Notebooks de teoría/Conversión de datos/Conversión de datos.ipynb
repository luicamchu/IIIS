{
 "cells": [
  {
   "cell_type": "markdown",
   "metadata": {},
   "source": [
    "## Fundamentos de Programación\n",
    "# Lectura y conversión de datos\n",
    "**Autor**: Mariano González.   **Revisores**: Miguel Toro, Toñi Reina, Daniel Mateos.   **Última modificación:** 10 de enero de 2023"
   ]
  },
  {
   "cell_type": "markdown",
   "metadata": {},
   "source": [
    "Al leer las líneas de un fichero de texto, estas se leen como cadenas de caracteres. Si los datos que contiene el fichero representan valores numéricos, fechas, horas, o en general valores que no son cadenas, hay que convertirlos al tipo correspondiente. En este notebook vamos a ver cómo se realiza esta transformación."
   ]
  },
  {
   "cell_type": "markdown",
   "metadata": {},
   "source": [
    "En primer lugar, veremos cómo se realiza esta transformación con los tipos de datos más habituales. Supondremos para ello que tenemos almacenada en una variable de tipo cadena el valor que se ha leído del fichero. A continuación, realizaremos unos ejercicios en los que leeremos los datos de un fichero CSV."
   ]
  },
  {
   "cell_type": "markdown",
   "metadata": {},
   "source": [
    "### Índice\n",
    "* [1. Conversión de datos](#sec_conversion)\n",
    " * [1.1. Valores numéricos](#sec_numericos)\n",
    " * [1.2. Fechas y horas](#sec_fechas)\n",
    " * [1.3. Valores booleanos](#sec_booleanos)\n",
    " * [1.4. Valores compuestos](#sec_compuestos)\n",
    "* [2. Ejercicios de lectura de ficheros CSV](#sec_ejercicios)\n",
    " * [2.1. Autobuses](#sec_autobuses)\n",
    " * [2.2. Partidos de fútbol](#sec_partidos)"
   ]
  },
  {
   "cell_type": "markdown",
   "metadata": {},
   "source": [
    "## 1. Conversión de datos <a name=\"sec_conversion\"/>"
   ]
  },
  {
   "cell_type": "markdown",
   "metadata": {},
   "source": [
    "### 1.1 Valores numéricos <a name=\"sec_numericos\"/>"
   ]
  },
  {
   "cell_type": "markdown",
   "metadata": {},
   "source": [
    "Para convertir una cadena que contiene dígitos numéricos en un valor entero, usamos la funcion `int`:"
   ]
  },
  {
   "cell_type": "code",
   "execution_count": null,
   "metadata": {},
   "outputs": [],
   "source": [
    "cadena = \"123\"\n",
    "\n",
    "numero = int(cadena)\n",
    "print(f\"El valor entero de la cadena '{cadena}' es: {numero}\")"
   ]
  },
  {
   "cell_type": "markdown",
   "metadata": {},
   "source": [
    "De forma similar, para convertir una cadena que contiene dígitos numéricos y el punto decimal en un valor real, usamos la función `float`:"
   ]
  },
  {
   "cell_type": "code",
   "execution_count": null,
   "metadata": {},
   "outputs": [],
   "source": [
    "cadena = \"7.92\"\n",
    "\n",
    "numero = float(cadena)\n",
    "print(f\"El valor real de la cadena '{cadena}' es: {numero}\")"
   ]
  },
  {
   "cell_type": "markdown",
   "metadata": {},
   "source": [
    "### 1.2 Fechas y horas <a name=\"sec_fechas\"/>"
   ]
  },
  {
   "cell_type": "markdown",
   "metadata": {},
   "source": [
    "Para convertir cadenas que representan fechas y horas en objetos de tipo `datetime` hay que importar el módulo datetime:"
   ]
  },
  {
   "cell_type": "code",
   "execution_count": null,
   "metadata": {},
   "outputs": [],
   "source": [
    "from datetime import datetime"
   ]
  },
  {
   "cell_type": "markdown",
   "metadata": {},
   "source": [
    "Para realizar la conversión se utiliza la función `strptime`. Esta función recibe dos parámetros: la cadena a convertir y el formato de la cadena. La cadena a convertir contiene los valores del día, mes, año, hora, minutos y segundos, además de otros caracteres que actúan como separadores. El formato contiene unos códigos que indican lo que representa cada valor de la cadena: `%d` representa el día, `%m` el mes, `%Y` el año, `%H` la hora, `%M` los minutos y `%S` los segundos. La referencia completa de códigos se puede ver en https://docs.python.org/3/library/datetime.html#strftime-and-strptime-format-codes."
   ]
  },
  {
   "cell_type": "markdown",
   "metadata": {},
   "source": [
    "Veamos el caso de las fechas:"
   ]
  },
  {
   "cell_type": "code",
   "execution_count": null,
   "metadata": {},
   "outputs": [],
   "source": [
    "cadena = \"13/11/2020\"\n",
    "\n",
    "fecha = datetime.strptime(cadena, \"%d/%m/%Y\").date()\n",
    "print(f\"El objeto date para la fecha '{cadena}' es: {fecha}\")"
   ]
  },
  {
   "cell_type": "markdown",
   "metadata": {},
   "source": [
    "Observa que la función `strptime` devuelve un objeto `datetime`, que representa una fecha y una hora. Como la cadena solo contiene la información de la fecha, aplicamos a este objeto el método `date` para quedarnos con la parte de la fecha."
   ]
  },
  {
   "cell_type": "markdown",
   "metadata": {},
   "source": [
    "Para las horas, sería así:"
   ]
  },
  {
   "cell_type": "code",
   "execution_count": null,
   "metadata": {},
   "outputs": [],
   "source": [
    "cadena = \"7-55-27\"\n",
    "\n",
    "hora = datetime.strptime(cadena, \"%H-%M-%S\").time()\n",
    "print(f\"El objeto time para la hora '{cadena}' es: {hora}\")"
   ]
  },
  {
   "cell_type": "markdown",
   "metadata": {},
   "source": [
    "En este caso la cadena solo contiene la información de la hora, por lo que aplicamos al objeto devuelto por `strptime` el método `time` para quedarnos con la parte de la hora."
   ]
  },
  {
   "cell_type": "markdown",
   "metadata": {},
   "source": [
    "Por último, podríamos tener en la cadena tanto la fecha como la hora. En ese caso, nos quedaríamos directamente con el valor devuelto por `strptime`."
   ]
  },
  {
   "cell_type": "code",
   "execution_count": null,
   "metadata": {},
   "outputs": [],
   "source": [
    "cadena = \"11/13/2020-7:55:27\"\n",
    "\n",
    "fechahora = datetime.strptime(cadena, \"%m/%d/%Y-%H:%M:%S\")\n",
    "print(f\"El objeto datetime para la fecha y hora '{cadena}' es: {fechahora}\")"
   ]
  },
  {
   "cell_type": "markdown",
   "metadata": {},
   "source": [
    "Estas operaciones de conversión las tendremos que realizar cada vez que leamos una fecha o una hora de un fichero, así que es razonable disponer de unas funciones que realicen estas conversiones e invocarlas cuando las necesitemos. Definamos pues varias funciones que reciban como parámetros una cadena que representa una fecha, una hora o ambas cosas, junto con el formato en el que están expresadas, y devuelvan como resultado un objeto de tipo `date`, `time` o `datetime`, respectivamente:"
   ]
  },
  {
   "cell_type": "code",
   "execution_count": null,
   "metadata": {},
   "outputs": [],
   "source": [
    "def parse_date(cadena, formato = \"%d/%m/%Y\"):\n",
    "    return datetime.strptime(cadena, formato).date()\n",
    "\n",
    "def parse_time(cadena, formato = '%H:%M:%S'):\n",
    "    return datetime.strptime(cadena, formato).time()\n",
    "\n",
    "def parse_datetime(cadena, formato = '%d/%m/%Y-%H:%M:%S'):\n",
    "    return datetime.strptime(cadena, formato)"
   ]
  },
  {
   "cell_type": "markdown",
   "metadata": {},
   "source": [
    "Veamos de nuevo las operaciones anteriores, usando estas funciones:"
   ]
  },
  {
   "cell_type": "code",
   "execution_count": null,
   "metadata": {},
   "outputs": [],
   "source": [
    "cadena = \"13/11/2020\"\n",
    "\n",
    "fecha = parse_date(cadena)\n",
    "print(f\"El objeto date para la fecha '{cadena}' es: {fecha}\")"
   ]
  },
  {
   "cell_type": "code",
   "execution_count": null,
   "metadata": {},
   "outputs": [],
   "source": [
    "cadena = \"7:55:27\"\n",
    "\n",
    "hora = parse_time(cadena)\n",
    "print(f\"El objeto time para la hora '{cadena}' es: {hora}\")"
   ]
  },
  {
   "cell_type": "code",
   "execution_count": null,
   "metadata": {},
   "outputs": [],
   "source": [
    "cadena = \"13/11/2020-7:55:27\"\n",
    "\n",
    "fechahora = parse_datetime(cadena)\n",
    "print(f\"El objeto datetime para la fecha y hora '{cadena}' es: {fechahora}\")"
   ]
  },
  {
   "cell_type": "markdown",
   "metadata": {},
   "source": [
    "Observa que en las llamadas a las funciones hemos omitido el segundo parámetro, por lo cual se toma el valor definido por defecto en la cabecera de la función. Esto lo podemos hacer porque la representación de las fechas y las horas coincide con el formato por defecto; si no fuera así, habría que pasar este formato como parámetro. Por ejemplo:"
   ]
  },
  {
   "cell_type": "code",
   "execution_count": null,
   "metadata": {},
   "outputs": [],
   "source": [
    "cadena = \"13-November-2020\"\n",
    "\n",
    "fecha = parse_date(cadena, \"%d-%B-%Y\")\n",
    "print(f\"El objeto date para la fecha '{cadena}' es: {fecha}\")"
   ]
  },
  {
   "cell_type": "markdown",
   "metadata": {},
   "source": [
    "### 1.3 Valores booleanos <a name=\"sec_booleanos\"/>"
   ]
  },
  {
   "cell_type": "markdown",
   "metadata": {},
   "source": [
    "Los valores booleanos pueden aparecer de muchas formas en el fichero; pueden ser '0' y '1', 'true' y 'false', 'Sí' o 'No', etc. Hay que convertir estos valores a los literales de tipo `bool`, que son `True` y `False`. Para ello hacemos uso de una estructura condicional. Por ejemplo, si los valores son 'SI' y 'NO', haremos lo siguiente:"
   ]
  },
  {
   "cell_type": "code",
   "execution_count": null,
   "metadata": {},
   "outputs": [],
   "source": [
    "cadena = 'NO'\n",
    "\n",
    "if cadena == 'SI':\n",
    "    booleano = True\n",
    "else:\n",
    "    booleano = False\n",
    "print(f\"El valor booleano de la cadena '{cadena}' es: {booleano}\")"
   ]
  },
  {
   "cell_type": "markdown",
   "metadata": {},
   "source": [
    "Al igual que con las fechas y horas, es conveniente definir una función que realice la conversión e invocarla cuando la necesitemos."
   ]
  },
  {
   "cell_type": "code",
   "execution_count": null,
   "metadata": {},
   "outputs": [],
   "source": [
    "def parse_bool(cadena):\n",
    "    if cadena == 'SI':\n",
    "        booleano = True\n",
    "    else:\n",
    "        booleano = False\n",
    "    return booleano"
   ]
  },
  {
   "cell_type": "markdown",
   "metadata": {},
   "source": [
    "La conversión quedaría entonces así:"
   ]
  },
  {
   "cell_type": "code",
   "execution_count": null,
   "metadata": {},
   "outputs": [],
   "source": [
    "cadena = 'NO'\n",
    "\n",
    "booleano = parse_bool(cadena)\n",
    "print(f\"El valor booleano de la cadena '{cadena}' es: {booleano}\")"
   ]
  },
  {
   "cell_type": "markdown",
   "metadata": {},
   "source": [
    "Es importante notar que la conversión mediante la función `bool` de una cadena con valor 'True' o 'False' no produce el resultado que podríamos esperar:"
   ]
  },
  {
   "cell_type": "code",
   "execution_count": null,
   "metadata": {},
   "outputs": [],
   "source": [
    "cadena = 'True'\n",
    "print(f\"bool('{cadena}') es: {bool(cadena)}\")\n",
    "\n",
    "cadena = 'False'\n",
    "print(f\"bool('{cadena}') es: {bool(cadena)}\")\n",
    "\n",
    "cadena = ''\n",
    "print(f\"bool('{cadena}') es: {bool(cadena)}\")"
   ]
  },
  {
   "cell_type": "markdown",
   "metadata": {},
   "source": [
    "Como se puede apreciar, el valor devuelto por la función `bool` es `True` para cualquier cadena salvo para la cadena vacía."
   ]
  },
  {
   "cell_type": "markdown",
   "metadata": {},
   "source": [
    "### 1.4 Valores compuestos <a name=\"sec_compuestos\"/>"
   ]
  },
  {
   "cell_type": "markdown",
   "metadata": {},
   "source": [
    "En ocasiones, la cadena puede estar formada por varias partes, que hay que extraer y convertir por separado. Por ejemplo, supongamos la siguiente cadena:"
   ]
  },
  {
   "cell_type": "code",
   "execution_count": null,
   "metadata": {},
   "outputs": [],
   "source": [
    "cadena = \"Comedia, Acción, Aventuras\""
   ]
  },
  {
   "cell_type": "markdown",
   "metadata": {},
   "source": [
    "Esta cadena contiene los géneros de una película, que en este caso son tres: 'Comedia', 'Acción' y 'Aventuras'. Estos géneros los podemos almacenar en un conjunto o una lista. Para ello, es necesario dividir la cadena en tantos trozos como elementos separados por comas contenga, y crear un conjunto o lista con ellos. Para hacer esto, usamos el método `split`:"
   ]
  },
  {
   "cell_type": "code",
   "execution_count": null,
   "metadata": {},
   "outputs": [],
   "source": [
    "cadena = \"Comedia, Acción, Aventuras\"\n",
    "\n",
    "generos = cadena.split(',')\n",
    "print(f\"Los géneros presentes en la cadena '{cadena}' son: {generos}\")"
   ]
  },
  {
   "cell_type": "markdown",
   "metadata": {},
   "source": [
    "El método `split` ha troceado la cadena usando como separador el carácter que recibe como parámetro (la coma), y ha construido una lista con estos trozos. Sin embargo, hay un problema: como se puede ver, las cadenas ' Acción' y ' Aventuras' tienen un espacio en blanco al principio, espacio que estaba en la cadena como un carácter más. Este espacio no nos interesa, y por tanto hemos de eliminarlo. Para ello usamos el método `strip`:  "
   ]
  },
  {
   "cell_type": "code",
   "execution_count": null,
   "metadata": {},
   "outputs": [],
   "source": [
    "cadena = \"Comedia, Acción, Aventuras\"\n",
    "\n",
    "generos = cadena.split(',')\n",
    "generos = [g.strip() for g in generos]\n",
    "print(f\"Los géneros presentes en la cadena '{cadena}' son: {generos}\")"
   ]
  },
  {
   "cell_type": "markdown",
   "metadata": {},
   "source": [
    "Ahora ya se tiene una lista con los nombres correctos de los géneros."
   ]
  },
  {
   "cell_type": "markdown",
   "metadata": {},
   "source": [
    "En este ejemplo, la cadena estaba compuesta por valores que eran de tipo cadena, los géneros. Si los valores son de otro tipo, será necesario convertir a su vez cada uno al tipo correspondiente. Por ejemplo, supongamos que la cadena contiene las calificaciones de un estudiante en varias asignaturas, y queremos almacenarlas en una lista de valores numéricos:"
   ]
  },
  {
   "cell_type": "code",
   "execution_count": null,
   "metadata": {},
   "outputs": [],
   "source": [
    "cadena = \"7.5, 6.8, 9.1, 5.0\"\n",
    "\n",
    "calificaciones = cadena.split(',')\n",
    "calificaciones = [float(c) for c in calificaciones]\n",
    "print(f\"Las calificaciones presentes en la cadena '{cadena}' son: {calificaciones}\")"
   ]
  },
  {
   "cell_type": "markdown",
   "metadata": {},
   "source": [
    "## 2. Ejercicios de lectura de ficheros CSV <a name=\"sec_ejercicios\"/>"
   ]
  },
  {
   "cell_type": "markdown",
   "metadata": {},
   "source": [
    "### 2.1 Autobuses <a name=\"sec_autobuses\"/>"
   ]
  },
  {
   "cell_type": "markdown",
   "metadata": {},
   "source": [
    "Sea un fichero CSV que contiene información sobre la flota de autobuses urbanos de una ciudad. Los primeros registros de este fichero son los siguientes:\n",
    "\n",
    "```\n",
    "matricula,fabricante,inicio,capacidad,asientos,kilometros,articulado\n",
    "2134GVM,MAN,7/3/2010,65,40,65540.7,SI\n",
    "0129JVH,SCANIA,25/11/2016,45,33,34708.2,NO\n",
    "8535HDR,MAN,18/5/2011,49,35,59835.9,NO\n",
    "```\n",
    "\n",
    "Vamos a escribir una función que lea este fichero y cree una lista de tuplas, donde cada tupla represente un registro del fichero (un autobús).\n",
    "\n",
    "En primer lugar, definimos una tupla con nombre para almacenar los registros:"
   ]
  },
  {
   "cell_type": "code",
   "execution_count": null,
   "metadata": {},
   "outputs": [],
   "source": [
    "from collections import namedtuple\n",
    "\n",
    "Autobus = namedtuple('Autobus', 'matricula, fabricante, inicio, capacidad, \\\n",
    "    asientos, kilometros, articulado')"
   ]
  },
  {
   "cell_type": "markdown",
   "metadata": {},
   "source": [
    "Ahora escribimos una función que lea el fichero, línea a línea, almacene los datos de cada autobús en una tupla, y los vaya añadiendo todos a una lista:"
   ]
  },
  {
   "cell_type": "code",
   "execution_count": null,
   "metadata": {},
   "outputs": [],
   "source": [
    "import csv\n",
    "\n",
    "def lee_autobuses(nombre_fichero):\n",
    "    autobuses = []\n",
    "    with open(nombre_fichero, encoding='utf-8') as f:\n",
    "        lector = csv.reader(f)\n",
    "        next(lector)\n",
    "        for matricula, fabricante, inicio, capacidad, asientos, kilometros, articulado in lector:\n",
    "            inicio = parse_date(inicio)\n",
    "            capacidad = int(capacidad)\n",
    "            asientos = int (asientos)\n",
    "            kilometros = float(kilometros)\n",
    "            articulado = parse_bool(articulado)\n",
    "            tupla = Autobus(matricula, fabricante, inicio, capacidad, asientos, \\\n",
    "                            kilometros, articulado)\n",
    "            autobuses.append(tupla)\n",
    "    return autobuses"
   ]
  },
  {
   "cell_type": "markdown",
   "metadata": {},
   "source": [
    "Por último, probamos la función de lectura y mostramos los tres primeros y los tres últimos autobuses de la lista:"
   ]
  },
  {
   "cell_type": "code",
   "execution_count": null,
   "metadata": {},
   "outputs": [],
   "source": [
    "autobuses = lee_autobuses(\"tussam.csv\")\n",
    "print(\"Los tres primeros autobuses son:\\n\", autobuses[:3])\n",
    "print(\"\\nLos tres últimos autobuses son:\\n\", autobuses[-3:])"
   ]
  },
  {
   "cell_type": "markdown",
   "metadata": {},
   "source": [
    "### 2.2 Partidos de fútbol <a name=\"sec_partidos\"/>"
   ]
  },
  {
   "cell_type": "markdown",
   "metadata": {},
   "source": [
    "Sea un fichero CSV que contiene información sobre los resultados de los partidos internacionales disputados por la selección nacional de fútbol de Israel. Los primeros registros de este fichero son los siguientes:\n",
    "\n",
    "```\n",
    "05/09/2019;Israel v FYR Macedonia;D;1-1;UEFA European Championship;83972\n",
    "09/09/2019;Slovenia v Israel;L;3-2;UEFA European Championship;17846\n",
    "```\n",
    "\n",
    "Cada registro contiene la fecha en la que se disputó el partido, los nombres de las selecciones que se enfrentaron, separados por \" v \" (blanco-uve-blanco), un carácter ‘L’ si Israel perdió, ‘D’ si empató y ‘W’ si ganó, el marcador del partido en el formato \"goles local-goles visitante\", el nombre de la competición y el número de espectadores.\n",
    "\n",
    "Vamos a escribir una función que lea este fichero y cree una lista de tuplas, donde cada tupla represente un registro del fichero (un partido).\n",
    "\n",
    "En primer lugar, definimos una tupla con nombre para almacenar los registros:"
   ]
  },
  {
   "cell_type": "code",
   "execution_count": null,
   "metadata": {},
   "outputs": [],
   "source": [
    "Partido = namedtuple('Partido', 'fecha, equipoloc, equipovis, resultado, \\\n",
    "    golesloc, golesvis, competicion, espectadores')"
   ]
  },
  {
   "cell_type": "markdown",
   "metadata": {},
   "source": [
    "Ahora escribimos una función que lea el fichero, línea a línea, almacene los datos de cada partido en una tupla, y los vaya añadiendo todos a una lista:"
   ]
  },
  {
   "cell_type": "code",
   "execution_count": null,
   "metadata": {},
   "outputs": [],
   "source": [
    "def lee_partidos(nombre_fichero):\n",
    "    partidos = []\n",
    "    with open(nombre_fichero, encoding='utf-8') as f:\n",
    "        lector = csv.reader(f, delimiter=\";\")\n",
    "        next(lector)\n",
    "        for fecha, partido, resultado, marcador, competicion, espectadores in lector:\n",
    "            fecha = parse_date(fecha)\n",
    "            equipoloc, equipovis = parse_partido(partido)\n",
    "            golesloc, golesvis = parse_marcador(marcador)\n",
    "            espectadores = int(espectadores)\n",
    "            partidos.append(Partido(fecha, equipoloc, equipovis, resultado, golesloc, \\\n",
    "                            golesvis, competicion, espectadores))\n",
    "    return partidos\n",
    "\n",
    "def parse_partido(cadena):\n",
    "    lista = cadena.split(\" v \")\n",
    "    return (lista[0].strip(), lista[1].strip())\n",
    "\n",
    "def parse_marcador(cadena):\n",
    "    lista = cadena.split(\"-\")\n",
    "    return (int(lista[0]), int(lista[1]))"
   ]
  },
  {
   "cell_type": "markdown",
   "metadata": {},
   "source": [
    "Por último, probamos la función de lectura y mostramos los tres primeros y los tres últimos partidos de la lista:"
   ]
  },
  {
   "cell_type": "code",
   "execution_count": null,
   "metadata": {},
   "outputs": [],
   "source": [
    "partidos = lee_partidos(\"resultadosIsrael.csv\")\n",
    "print(\"Los tres primeros partidos son:\\n\", partidos[:3])\n",
    "print(\"\\nLos tres últimos partidos son:\\n\", partidos[-3:])"
   ]
  }
 ],
 "metadata": {
  "kernelspec": {
   "display_name": "Python 3 (ipykernel)",
   "language": "python",
   "name": "python3"
  },
  "language_info": {
   "codemirror_mode": {
    "name": "ipython",
    "version": 3
   },
   "file_extension": ".py",
   "mimetype": "text/x-python",
   "name": "python",
   "nbconvert_exporter": "python",
   "pygments_lexer": "ipython3",
   "version": "3.9.5"
  }
 },
 "nbformat": 4,
 "nbformat_minor": 4
}
