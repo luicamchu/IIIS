{
 "cells": [
  {
   "attachments": {},
   "cell_type": "markdown",
   "metadata": {},
   "source": [
    "# Fundamentos de Programación\n",
    "\n",
    "\n",
    "# Expresiones, tipos predefinidos y entrada/salida\n",
    "**Autor**: Fermín Cruz.   **Revisor**: José A. Troyano, Carlos G. Vallejo, Mariano González, José María Luna   \n",
    "**Última modificación:** 13 de septiembre de 2024"
   ]
  },
  {
   "attachments": {},
   "cell_type": "markdown",
   "metadata": {},
   "source": [
    "## Índice de contenidos\n",
    "* [1. Variables](#sec_variables)\n",
    "  * [1.1. Asignaciones](#sec_asignaciones)\n",
    "  * [1.2. Name Error](#sec_nameerror)\n",
    "  * [1.3 Normas para la construcción de nombres de variables](#sec_normas)\n",
    "* [2. Tipos predefinidos](#sec_tipos)\n",
    "  * [2.1. Tipo lógico](#sec_logico)\n",
    "  * [2.2. Tipos numéricos](#sec_numericos)\n",
    "  * [2.3. Tipos cadena](#sec_cadena)\n",
    "  * [2.4. Tipos contenedores](#sec_contenedores)\n",
    "    * [2.4.1. Tuplas](#sec_tuplas)\n",
    "    * [2.4.2. Listas](#sec_listas)\n",
    "    * [2.4.3. Conjuntos](#sec_conjuntos)\n",
    "    * [2.4.4. Diccionarios](#sec_diccionarios)\n",
    "    * [2.4.5. Operaciones con tipos contenedores](#sec_operaciones)\n",
    "  * [2.5. Tipos fecha y hora](#sec_datetime)\n",
    "* [3. Expresiones](#sec_expresiones)\n",
    "  * [3.1. Prioridad de los operadores](#sec_prioridad)\n",
    "  * [3.2. Conversión de tipos](#sec_conversion)\n",
    "    * [3.2.1 Conversión de fechas y horas](#sec_conversionfechas)\n",
    "  * [3.3. Expresiones bien formadas](#sec_bienformadas)\n",
    "* [4. Entrada y salida estándar](#sec_4)\n",
    "  * [4.1. Funciones input y print](#sec_4_1)\n",
    "  * [4.2. Formateo de cadenas](#sec_4_2)\n",
    "* [5. Lectura y escritura de ficheros](#sec_5)\n",
    "  * [5.1. Apertura y cierre de ficheros](#sec_5_1)\n",
    "  * [5.2. Lectura y escritura de texto libre](#sec_5_2)\n",
    "  * [5.3. Lectura y escritura de CSV](#sec_5_3) "
   ]
  },
  {
   "attachments": {},
   "cell_type": "markdown",
   "metadata": {},
   "source": [
    "## 1. Variables <a id=\"sec_variables\"></a>"
   ]
  },
  {
   "attachments": {},
   "cell_type": "markdown",
   "metadata": {},
   "source": [
    "Una variable es un elemento de un programa que permite almacenar un valor en un momento de la ejecución, y utilizarlo en un momento posterior. Para usar una variable debemos escoger un nombre para la misma y darle algún valor inicial, como en los siguientes ejemplos:\n",
    "<a id=\"primer_ejemplo\"/>"
   ]
  },
  {
   "cell_type": "code",
   "execution_count": null,
   "metadata": {},
   "outputs": [],
   "source": [
    "nombre = \"Augustino\"\n",
    "edad = 19\n",
    "peso = 69.4\n",
    "altura = 1.70"
   ]
  },
  {
   "attachments": {},
   "cell_type": "markdown",
   "metadata": {},
   "source": [
    "Si más adelante hacemos uso de los nombres que hemos usado para las variables anteriores (*nombre*, *edad*, *peso* o *altura*), Python nos devolverá los valores almacenados previamente."
   ]
  },
  {
   "cell_type": "code",
   "execution_count": null,
   "metadata": {},
   "outputs": [],
   "source": [
    "print(nombre)\n",
    "print(edad)\n",
    "print(peso)\n",
    "print(altura)"
   ]
  },
  {
   "attachments": {},
   "cell_type": "markdown",
   "metadata": {},
   "source": [
    "Aunque no es obligatorio, si en algún momento no necesitamos más una variable, podemos eliminarla de la memoria:"
   ]
  },
  {
   "cell_type": "code",
   "execution_count": null,
   "metadata": {},
   "outputs": [],
   "source": [
    "del(edad)\n",
    "print(edad)"
   ]
  },
  {
   "attachments": {},
   "cell_type": "markdown",
   "metadata": {},
   "source": [
    "### 1.1. Asignaciones <a id=\"sec_asignaciones\"></a>\n",
    "\n",
    "Si volvemos a escribir una instrucción formada por el nombre de una variable que ya hemos usado anteriormente, el signo igual y un valor, estaremos sustituyendo el valor almacenado en la variable en cuestión. Llamamos a esta instrucción **asignación**. Por ejemplo, podemos hacer:"
   ]
  },
  {
   "cell_type": "code",
   "execution_count": null,
   "metadata": {},
   "outputs": [],
   "source": [
    "nombre = \"Bonifacio\" # el valor anterior de la variable se pierde\n",
    "print(nombre)"
   ]
  },
  {
   "attachments": {},
   "cell_type": "markdown",
   "metadata": {},
   "source": [
    "En Python es posible hacer **asignaciones múltiples**, lo que permite asignar valores a varias variables en una única instrucción:"
   ]
  },
  {
   "cell_type": "code",
   "execution_count": null,
   "metadata": {},
   "outputs": [],
   "source": [
    "edad, peso = 21, 73.2\n",
    "print(edad)\n",
    "print(peso)"
   ]
  },
  {
   "attachments": {},
   "cell_type": "markdown",
   "metadata": {},
   "source": [
    "Las asignaciones múltiples se pueden usar para intercambiar los valores de dos variables. Mira este ejemplo:"
   ]
  },
  {
   "cell_type": "code",
   "execution_count": null,
   "metadata": {},
   "outputs": [],
   "source": [
    "peso, altura = altura, peso\n",
    "print(peso)\n",
    "print(altura)"
   ]
  },
  {
   "attachments": {},
   "cell_type": "markdown",
   "metadata": {},
   "source": [
    "### 1.2. Name Error <a id=\"sec_nameerror\"></a>\n",
    "Es habitual confundirse al escribir el nombre de una variable existente en el programa. Mira el error que devuelve Python cuando esto ocurre; trata de recordarlo para cuando te ocurra en tus programas:"
   ]
  },
  {
   "cell_type": "code",
   "execution_count": null,
   "metadata": {},
   "outputs": [],
   "source": [
    "print(nombres)  # Hemos usado \"nombres\" en lugar de \"nombre\""
   ]
  },
  {
   "attachments": {},
   "cell_type": "markdown",
   "metadata": {},
   "source": [
    "### 1.3. Normas para la construcción de nombres de variables <a id=\"sec_normas\"></a>\n",
    "Podemos usar los nombres que queramos para nuestras variables, siempre que cumplamos las siguientes reglas:\n",
    "* Sólo podemos usar letras, números y la barra baja (_). No se pueden usar espacios.\n",
    "* El nombre puede comenzar por una letra o por la barra baja.\n",
    "* No se pueden usar determinadas palabras clave (*keywords*) que Python usa como instrucciones (por ejemplo, *def* o *if*) o como literales (por ejemplo, *True*). Aunque Python lo permite, tampoco es apropiado usar nombres de funciones predefinidas (por ejemplo, *print*).\n",
    "* Los nombres tienen que ser descriptivos de lo que representa la variable (¡sin pasarse!).\n",
    "\n",
    "Aquí tienes algunos ejemplos de nombres incorrectos de variables; observa los errores generados por Python."
   ]
  },
  {
   "cell_type": "code",
   "execution_count": null,
   "metadata": {},
   "outputs": [],
   "source": [
    "4edad = 10"
   ]
  },
  {
   "cell_type": "code",
   "execution_count": null,
   "metadata": {},
   "outputs": [],
   "source": [
    "if = 20"
   ]
  },
  {
   "cell_type": "code",
   "execution_count": null,
   "metadata": {},
   "outputs": [],
   "source": [
    "True = 15"
   ]
  },
  {
   "attachments": {},
   "cell_type": "markdown",
   "metadata": {},
   "source": [
    "Puedes consultar todas las palabras claves (*keywords*) existentes en Python de la siguiente forma:"
   ]
  },
  {
   "cell_type": "code",
   "execution_count": null,
   "metadata": {},
   "outputs": [],
   "source": [
    "import keyword\n",
    "print(keyword.kwlist)"
   ]
  },
  {
   "attachments": {},
   "cell_type": "markdown",
   "metadata": {},
   "source": [
    "### ¡Prueba tú!"
   ]
  },
  {
   "cell_type": "code",
   "execution_count": null,
   "metadata": {},
   "outputs": [],
   "source": [
    "# Declara una variable para almacenar el precio de un producto, y asígnale algún valor.\n",
    "\n",
    "# Muestra por pantalla el valor almacenado en la variable\n"
   ]
  },
  {
   "attachments": {},
   "cell_type": "markdown",
   "metadata": {},
   "source": [
    "## 2. Tipos predefinidos <a id=\"sec_tipos\"></a>"
   ]
  },
  {
   "attachments": {},
   "cell_type": "markdown",
   "metadata": {},
   "source": [
    "En los ejemplos anteriores hemos guardado valores de distintos tipos en las variables: *nombre* almacena un valor de **tipo cadena de caracteres**, *edad* almacena un valor de **tipo número entero** y *peso* almacena un valor de **tipo número real**. Cada uno de estos son **tipos predefinidos en Python** (*built-in types*). Hablamos de *predefinidos* porque Python también permite al programador crear sus propios tipos, aunque esto no lo veremos por ahora. Los valores que hemos escrito para inicializar cada una de las variables se llaman **literales**.\n"
   ]
  },
  {
   "attachments": {},
   "cell_type": "markdown",
   "metadata": {},
   "source": [
    "Un **tipo de datos** está definido por un conjunto de posibles valores (lo que en matemáticas conocemos como *dominio*) y un conjunto de operaciones asociadas. Por ejemplo, el tipo número entero (o tipo entero) se corresponde con los valores 0, -1, 1, -2, 2, ..., y con las operaciones aritméticas (suma, resta, multiplicación, ...).\n",
    "\n",
    "Un **literal** (es decir, un valor concreto de un tipo) tiene asociado un tipo determinado, simplemente por cómo está escrito dicho literal. Por contra, para saber el tipo asociado a una **variable**, debemos fijarnos en el valor que ha sido almacenado en la misma. [En el ejemplo de la sección anterior](#primer_ejemplo), *nombre* es una variable de tipo cadena de caracteres (o tipo cadena), porque ha sido inicializada con un literal de dicho tipo. \n",
    "\n",
    "Una **operación** recibe uno o varios valores de un tipo determinado y devuelve un valor del mismo u otro tipo. Las operaciones pueden estar representadas por un operador o por una llamada a función, como veremos más adelante.\n",
    "\n",
    "Si en cualquier momento queremos saber de qué tipo es una variable, podemos usar la función predefinida ``type``:"
   ]
  },
  {
   "cell_type": "code",
   "execution_count": null,
   "metadata": {},
   "outputs": [],
   "source": [
    "resultado = 2 / 3\n",
    "type(resultado)"
   ]
  },
  {
   "cell_type": "markdown",
   "metadata": {},
   "source": [
    "En las siguientes secciones se muestran distintos tipos predefinidos, la manera en que se escriben los literales y las operaciones asociadas más importantes."
   ]
  },
  {
   "attachments": {},
   "cell_type": "markdown",
   "metadata": {},
   "source": [
    "### 2.1 Tipo lógico <a id=\"sec_logico\"></a>"
   ]
  },
  {
   "attachments": {},
   "cell_type": "markdown",
   "metadata": {},
   "source": [
    "El tipo lógico (**bool**) únicamente incluye dos valores en su dominio: verdadero (**True**) y falso (**False**). Estas dos palabras en negrita son precisamente los únicos **literales lógicos** permitidos en Python. El tipo lógico sirve para representar condiciones lógicas, por ejemplo, si un peso es o no mayor a un umbral, si un año es o no bisiesto, o si el personaje de un videojuego tiene o no una determinada habilidad. \n",
    "\n",
    "Los operadores lógicos son sólo tres: **and**, **or** y **not**, tal como se muestra en los siguientes ejemplos.\n",
    "<a id=\"operadores_logicos\"/>"
   ]
  },
  {
   "cell_type": "code",
   "execution_count": null,
   "metadata": {},
   "outputs": [],
   "source": [
    "# Disyunción (también llamado \"o lógico\" y \"sumador lógico\")\n",
    "False or True"
   ]
  },
  {
   "cell_type": "code",
   "execution_count": null,
   "metadata": {},
   "outputs": [],
   "source": [
    "# Conjunción (también llamado \"y lógico\" y \"multiplicador lógico\")\n",
    "False and True"
   ]
  },
  {
   "cell_type": "code",
   "execution_count": null,
   "metadata": {},
   "outputs": [],
   "source": [
    "# Negación\n",
    "not False"
   ]
  },
  {
   "cell_type": "markdown",
   "metadata": {},
   "source": [
    "Aquí tienes el resultado de estos operadores para todas las posibles combinaciones de operandos:\n",
    "\n",
    "* Tabla de verdad para ``and``\n",
    "\n",
    "    | a     | b     | a and b |\n",
    "    | ----- | ----- | ------- |\n",
    "    | False | False | False   |\n",
    "    | False | True  | False   |\n",
    "    | True  | False | False   |\n",
    "    | True  | True  | True    |\n",
    "\n",
    "* Tabla de verdad para ``or``\n",
    "\n",
    "    | a     | b     | a or b |\n",
    "    | ----- | ----- | ------ |\n",
    "    | False | False | False  |\n",
    "    | False | True  | True   |\n",
    "    | True  | False | True   |\n",
    "    | True  | True  | True   |\n",
    "\n",
    "* Tabla de verdad para ``not``\n",
    "\n",
    "    | a     | not a |\n",
    "    | ----- | ----- |\n",
    "    | False | True  |\n",
    "    | True  | False |"
   ]
  },
  {
   "attachments": {},
   "cell_type": "markdown",
   "metadata": {},
   "source": [
    "### ¡Prueba tú!"
   ]
  },
  {
   "cell_type": "code",
   "execution_count": null,
   "metadata": {},
   "outputs": [],
   "source": [
    "# Cambia los literales utilizados en las siguientes expresiones y observa cuál es el resultado en cada caso\n",
    "\n",
    "print(\"Disyunción:\", False or False)\n",
    "print(\"Conjunción:\", False and False)\n",
    "print(\"Negación:\", not False)"
   ]
  },
  {
   "attachments": {},
   "cell_type": "markdown",
   "metadata": {},
   "source": [
    "### 2.2 Tipos numéricos <a id=\"sec_numericos\"></a>"
   ]
  },
  {
   "attachments": {},
   "cell_type": "markdown",
   "metadata": {},
   "source": [
    "Existen tres tipos que permiten trabajar con números en Python: enteros (**int**), reales (**float**) y complejos (**complex**). Nosotros sólo trabajaremos con los dos primeros. \n",
    "\n",
    "Los **literales enteros** se escriben tal como estamos acostumbrados, mediante una secuencia de dígitos. Por ejemplo: \n",
    "```python\n",
    "2018\n",
    "```\n",
    "Si escribimos el punto decimal (.), entonces diremos que se trata de un **literal real**:\n",
    "```python\n",
    "3.14159\n",
    "```\n",
    "\n",
    "Las operaciones disponibles incluyen a las **operaciones aritméticas** (suma, resta, multiplicación,...), las **operaciones relacionales** (mayor que, menor que,...), y algunas otras como el valor absoluto. Algunas operaciones se representan mediante un operador (por ejemplo, se usa el operador + para la suma), mientras que otras se representan mediante una llamada a función (por ejemplo, se usa la función predefinida ``abs`` para obtener el valor absoluto de un número). \n",
    "\n",
    "A continuación, se muestran ejemplos que deben ser autoexplicativos. Empezamos por las **operaciones aritméticas**, que son aquellas en las que tanto los operandos como el resultado son numéricos:\n",
    "<a id=\"operadores_aritmeticos\"/>"
   ]
  },
  {
   "cell_type": "code",
   "execution_count": null,
   "metadata": {},
   "outputs": [],
   "source": [
    "# suma\n",
    "3 + 6"
   ]
  },
  {
   "cell_type": "code",
   "execution_count": null,
   "metadata": {},
   "outputs": [],
   "source": [
    "# resta\n",
    "3 - 4"
   ]
  },
  {
   "cell_type": "code",
   "execution_count": null,
   "metadata": {},
   "outputs": [],
   "source": [
    "# producto\n",
    "3 * 4"
   ]
  },
  {
   "cell_type": "code",
   "execution_count": null,
   "metadata": {},
   "outputs": [],
   "source": [
    "# división\n",
    "3 / 4"
   ]
  },
  {
   "cell_type": "code",
   "execution_count": null,
   "metadata": {},
   "outputs": [],
   "source": [
    "# división entera: devuelve el cociente, sin decimales\n",
    "3 // 4"
   ]
  },
  {
   "cell_type": "code",
   "execution_count": null,
   "metadata": {},
   "outputs": [],
   "source": [
    "# resto de la división entera\n",
    "3 % 4"
   ]
  },
  {
   "cell_type": "code",
   "execution_count": null,
   "metadata": {},
   "outputs": [],
   "source": [
    "# opuesto\n",
    "- 3"
   ]
  },
  {
   "cell_type": "code",
   "execution_count": null,
   "metadata": {},
   "outputs": [],
   "source": [
    "# valor absoluto\n",
    "abs(-3)"
   ]
  },
  {
   "cell_type": "code",
   "execution_count": null,
   "metadata": {},
   "outputs": [],
   "source": [
    "# potencia\n",
    "3 ** 4"
   ]
  },
  {
   "attachments": {},
   "cell_type": "markdown",
   "metadata": {},
   "source": [
    "### ¡Prueba tú!"
   ]
  },
  {
   "cell_type": "code",
   "execution_count": null,
   "metadata": {},
   "outputs": [],
   "source": [
    "# Escribe una expresión usando varios operadores aritméticos\n"
   ]
  },
  {
   "attachments": {},
   "cell_type": "markdown",
   "metadata": {},
   "source": [
    "Continuamos con las **operaciones relacionales**, en las que los operandos son numéricos pero el resultado es de tipo lógico:\n",
    "<a id=\"operadores_relacionales\"/>"
   ]
  },
  {
   "cell_type": "code",
   "execution_count": null,
   "metadata": {},
   "outputs": [],
   "source": [
    "# mayor estricto\n",
    "3 > 4"
   ]
  },
  {
   "cell_type": "code",
   "execution_count": null,
   "metadata": {},
   "outputs": [],
   "source": [
    "# menor estricto\n",
    "3 < 4"
   ]
  },
  {
   "cell_type": "code",
   "execution_count": null,
   "metadata": {},
   "outputs": [],
   "source": [
    "# mayor o igual\n",
    "3 >= 4"
   ]
  },
  {
   "cell_type": "code",
   "execution_count": null,
   "metadata": {},
   "outputs": [],
   "source": [
    "# menor o igual\n",
    "3 <= 4"
   ]
  },
  {
   "cell_type": "code",
   "execution_count": null,
   "metadata": {},
   "outputs": [],
   "source": [
    "# igual\n",
    "3 == 4"
   ]
  },
  {
   "cell_type": "code",
   "execution_count": null,
   "metadata": {},
   "outputs": [],
   "source": [
    "# distinto\n",
    "3 != 4"
   ]
  },
  {
   "attachments": {},
   "cell_type": "markdown",
   "metadata": {},
   "source": [
    "Los operadores relacionales pueden concatenarse para formar una única expresión, de manera similar a como se hace en notación matemática (algo que no puede hacerse en otros lenguajes de programación, como C o Java). Por ejemplo:"
   ]
  },
  {
   "cell_type": "code",
   "execution_count": null,
   "metadata": {},
   "outputs": [],
   "source": [
    "3 < 4 <= 6\n"
   ]
  },
  {
   "attachments": {},
   "cell_type": "markdown",
   "metadata": {},
   "source": [
    "### 2.3 Tipo cadena  <a id=\"sec_cadena\"></a>"
   ]
  },
  {
   "attachments": {},
   "cell_type": "markdown",
   "metadata": {},
   "source": [
    "El tipo cadena de caracteres (**str**), o como se suele abreviar, tipo cadena, nos permite trabajar con textos. Los **literales cadena** se escriben utilizando unas comillas simples o dobles para rodear al texto que queremos representar. Por ejemplo:\n",
    "\n",
    "```python\n",
    "\"Este es un literal cadena\"\n",
    "'Este es otro literal cadena'\n",
    "```\n",
    "\n",
    "Si usamos comillas simples, dentro del texto podemos emplear las comillas dobles sin problema. Igualmente, si usamos las comillas dobles para rodear al texto, dentro del mismo podemos usar las comillas simples. Por ejemplo:\n",
    "\n",
    "```python\n",
    "\"En este ejemplo usamos las 'comillas simples' dentro de un texto\"\n",
    "'En este ejemplo usamos las \"comillas dobles\" dentro de un texto'\n",
    "```\n",
    "\n",
    "En ocasiones querremos hacer referencia a caracteres especiales, como el tabulador o el salto de línea. En dichos casos, debemos usar el **carácter de escape**, que es la barra invertida \\\\. Por ejemplo, el tabulador se escribe como *\\t* y el salto de línea se escribe como *\\n*. Por ejemplo:\n",
    "\n",
    "```python\n",
    "\"Este texto tiene dos líneas.\\nEsta es la segunda línea.\"\n",
    "```\n",
    "\n",
    "También es posible utilizar tres comillas, simples o dobles, como delimitadores del texto, en cuyo caso podemos escribir texto de varias líneas, sin necesidad de usar *\\n*:\n",
    "\n",
    "```python\n",
    "\"\"\"Este texto tiene dos líneas.\n",
    "Esta es la segunda línea.\"\"\"\n",
    "```"
   ]
  },
  {
   "attachments": {},
   "cell_type": "markdown",
   "metadata": {},
   "source": [
    "La mayoría de las operaciones sobre el tipo cadena son mediante llamadas a métodos, ya que las cadenas en Python son objetos. Veremos esto más adelante; por ahora, nos basta con ver las operaciones que podemos realizar mediante operadores o funciones predefinidas:"
   ]
  },
  {
   "cell_type": "code",
   "execution_count": null,
   "metadata": {},
   "outputs": [],
   "source": [
    "texto = \"Este es un texto de prueba.\"\n",
    "\n",
    "# Tamaño de una cadena, función predefinida len\n",
    "print(\"Número de caracteres del texto:\", len(texto))\n",
    "\n",
    "# El operador de acceso permite obtener un único carácter \n",
    "print(texto[0])  # El primer carácter se referencia mediante un cero\n",
    "print(texto[1])\n",
    "print(texto[26])\n",
    "print(texto[-1]) # Otra forma de acceder al último carácter de la cadena"
   ]
  },
  {
   "attachments": {},
   "cell_type": "markdown",
   "metadata": {},
   "source": [
    "¡Cuidado con intentar acceder a un carácter que no existe! Observa el error que se produce:"
   ]
  },
  {
   "cell_type": "code",
   "execution_count": null,
   "metadata": {},
   "outputs": [],
   "source": [
    "print(texto[27])"
   ]
  },
  {
   "attachments": {},
   "cell_type": "markdown",
   "metadata": {},
   "source": [
    "Python nos permite usar el operador + entre dos cadenas, y el operador * entre una cadena y un número entero:"
   ]
  },
  {
   "cell_type": "code",
   "execution_count": null,
   "metadata": {},
   "outputs": [],
   "source": [
    "texto + \" ¡Genial!\""
   ]
  },
  {
   "cell_type": "code",
   "execution_count": null,
   "metadata": {},
   "outputs": [],
   "source": [
    "texto * 4"
   ]
  },
  {
   "attachments": {},
   "cell_type": "markdown",
   "metadata": {},
   "source": [
    "También es posible usar los operadores relacionales entre cadenas, de manera que se utiliza el orden alfabético para decidir el resultado de las operaciones."
   ]
  },
  {
   "cell_type": "code",
   "execution_count": null,
   "metadata": {},
   "outputs": [],
   "source": [
    "\"Ana\" < \"María\""
   ]
  },
  {
   "attachments": {},
   "cell_type": "markdown",
   "metadata": {},
   "source": [
    "### ¡Prueba tú!"
   ]
  },
  {
   "cell_type": "code",
   "execution_count": null,
   "metadata": {},
   "outputs": [],
   "source": [
    "# Declara una variable e inicialízala con algún texto.\n",
    "\n",
    "# Muestra el número de caracteres del texto, el carácter que ocupa la primera posición y el carácter que ocupa la última posición.\n"
   ]
  },
  {
   "attachments": {},
   "cell_type": "markdown",
   "metadata": {},
   "source": [
    "### 2.4 Tipos contenedores  <a id=\"sec_contenedores\"></a>"
   ]
  },
  {
   "attachments": {},
   "cell_type": "markdown",
   "metadata": {},
   "source": [
    "En Python existen algunos tipos contenedores que permiten almacenar en una variable varios valores al mismo tiempo. Cada uno de estos valores puede tener a su vez su propio tipo (es decir, puedo guardar en una única variable dos valores de tipo entero y un valor de tipo cadena, por ejemplo). \n",
    "\n",
    "Entre otros, disponemos en Python de estos tipos contenedores.\n",
    "\n",
    "#### 2.4.1. Tuplas  <a id=\"sec_tuplas\"></a>\n",
    "\n",
    "El tipo tupla (**tuple**) permite almacenar datos de cualquier tipo, en un orden determinado. Los literales se escriben concatenando los datos que se desea que estén incluidos en la tupla, separados por comas, y envolviéndolo todo con unos paréntesis (aunque esto último es opcional). Por ejemplo:\n",
    "\n",
    "```python\n",
    "(\"Mark\", \"Lenders\", 15) \n",
    "```\n",
    "\n",
    "Si guardamos una tupla en una variable, podemos acceder a cada uno de los elementos de la tupla de la siguiente manera:\n",
    "<a id=\"ejemplo_tupla\"/>"
   ]
  },
  {
   "cell_type": "code",
   "execution_count": null,
   "metadata": {},
   "outputs": [],
   "source": [
    "jugador = (\"Mark\", \"Lenders\", 15)\n",
    "print(\"Nombre:\", jugador[0])\n",
    "print(\"Apellidos:\", jugador[1])\n",
    "print(\"Edad:\", jugador[2])"
   ]
  },
  {
   "attachments": {},
   "cell_type": "markdown",
   "metadata": {},
   "source": [
    "Las tuplas se usan frecuentemente como tipo de devolución de las funciones, ya que nos permiten que una función devuelva varios valores al mismo tiempo. Veremos esto más adelante."
   ]
  },
  {
   "attachments": {},
   "cell_type": "markdown",
   "metadata": {},
   "source": [
    "Las tuplas son **inmutables**, lo que significa que una vez que se ha asignado un valor a una variable de tipo tupla ya no podemos cambiar los valores encapsulados en dicha tupla, ni añadir o eliminar elementos. Prueba a ejecutar el siguiente código y observa el error que se produce:"
   ]
  },
  {
   "cell_type": "code",
   "execution_count": null,
   "metadata": {},
   "outputs": [],
   "source": [
    "jugador[2] = 16"
   ]
  },
  {
   "attachments": {},
   "cell_type": "markdown",
   "metadata": {},
   "source": [
    "Existe un tipo especial de tupla, al que llamamos tupla con nombre (**namedtuple**). En este caso, no es un tipo predefinido, por lo que debemos importarlo antes de poderlo usar. En una tupla con nombre, le pondremos un nombre a cada uno de las posiciones de la tupla, lo que luego nos permitirá acceder a esos elementos de una manera mucho más legible. \n",
    "\n",
    "Lo primero que tendremos que hacer es definir la ``namedtuple``, indicando un nombre para el tipo de tupla y para cada uno de los elementos que la componen:"
   ]
  },
  {
   "cell_type": "code",
   "execution_count": null,
   "metadata": {},
   "outputs": [],
   "source": [
    "from collections import namedtuple\n",
    "\n",
    "# El primer parámetro que pasamos a namedtuple es el nombre\n",
    "# que le damos al tipo de tupla que estamos definiendo.\n",
    "# El segundo parámetro que pasamos a namedtuple indica\n",
    "# los nombres de cada uno de los elementos de la tupla\n",
    "Jugador = namedtuple(\"Jugador\", \"nombre, apellidos, edad\")"
   ]
  },
  {
   "attachments": {},
   "cell_type": "markdown",
   "metadata": {},
   "source": [
    "Con la definición anterior, obtenemos un nuevo **constructor de tipo**, que hemos guardado en la variable ``Jugador``. Fíjate que hemos usado un identificador con la primera letra mayúscula para esta variable, lo cual es un convenio ampliamente utilizado. Cuando queramos crear tuplas del tipo Jugador, lo haremos usando el constructor de tipo que hemos obtenido anteriormente:"
   ]
  },
  {
   "cell_type": "code",
   "execution_count": null,
   "metadata": {},
   "outputs": [],
   "source": [
    "jugador = Jugador(\"Mark\", \"Lenders\", 15)\n",
    "print(jugador)"
   ]
  },
  {
   "attachments": {},
   "cell_type": "markdown",
   "metadata": {},
   "source": [
    "Ahora podemos acceder a los campos de la tupla de una manera más legible que la anterior: en lugar de usar los corchetes e indicar la posición del elemento, utilizamos un punto seguido del nombre del elemento:"
   ]
  },
  {
   "cell_type": "code",
   "execution_count": null,
   "metadata": {},
   "outputs": [],
   "source": [
    "print(\"Nombre:\", jugador.nombre)\n",
    "print(\"Apellidos:\", jugador.apellidos)\n",
    "print(\"Edad:\", jugador.edad)"
   ]
  },
  {
   "attachments": {},
   "cell_type": "markdown",
   "metadata": {},
   "source": [
    "#### 2.4.2. Listas <a id=\"sec_listas\"></a>\n",
    "\n",
    "El tipo lista (**list**) permite almacenar datos de cualquier tipo, en un orden determinado, al igual que las tuplas. La principal diferencia es que son **mutables**, es decir, una vez inicializada una variable de tipo lista, es posible cambiar el valor de una posición, añadir nuevos elementos o eliminarlos. Los literales se escriben concatenando los datos que se desea que estén incluidos en la tupla, separados por comas, y envolviéndolo todo con unos corchetes. Por ejemplo:\n",
    "```python\n",
    "[32, 36, 35, 36, 32, 33, 34]\n",
    "```\n",
    "\n",
    "Aunque al igual que en las tuplas los elementos pueden tener cada uno un tipo distinto, lo más habitual en las listas es que todos los elementos sean de un mismo tipo. Para acceder a los elementos se usan los corchetes, al igual que con las tuplas, con la diferencia de que ahora también podemos asignar nuevos valores a una posición determinada de la lista:"
   ]
  },
  {
   "cell_type": "code",
   "execution_count": null,
   "metadata": {},
   "outputs": [],
   "source": [
    "temperaturas = [32, 36, 35, 36, 32, 33]\n",
    "print(\"Primera temperatura de la lista:\", temperaturas[0])\n",
    "temperaturas[1] = 35\n",
    "print(temperaturas)"
   ]
  },
  {
   "attachments": {},
   "cell_type": "markdown",
   "metadata": {},
   "source": [
    "#### 2.4.3. Conjuntos  <a id=\"sec_conjuntos\"></a>\n",
    "El tipo conjunto (**set**) permite almacenar datos de cualquier tipo, sin ningún orden determinado, y sin posibilidad de elementos repetidos. Los literales se escriben concatenando los datos que se desea que estén incluidos en el conjunto (da igual el orden en que los escribamos), separados por comas, y envolviéndolo todo con unas llaves. Por ejemplo:\n",
    "```python\n",
    "{32, 33, 34, 35, 36}\n",
    "```\n"
   ]
  },
  {
   "attachments": {},
   "cell_type": "markdown",
   "metadata": {},
   "source": [
    "Observa lo que ocurre si inicializamos un conjunto con datos repetidos:"
   ]
  },
  {
   "cell_type": "code",
   "execution_count": null,
   "metadata": {},
   "outputs": [],
   "source": [
    "temperaturas_conjunto = {32,36,35,36,32,33,34}\n",
    "print(temperaturas_conjunto)"
   ]
  },
  {
   "attachments": {},
   "cell_type": "markdown",
   "metadata": {},
   "source": [
    "Como el orden de los elementos en un conjunto no es relevante, no podemos acceder a dichos elementos usando los corchetes, como hacíamos en las tuplas y listas. Al igual que las listas, los conjuntos son **mutables**. "
   ]
  },
  {
   "attachments": {},
   "cell_type": "markdown",
   "metadata": {},
   "source": [
    "#### 2.4.4. Diccionarios  <a id=\"sec_diccionarios\"></a>\n",
    "\n",
    "El tipo diccionario (**dict**) permite almacenar datos de cualquier tipo, sin ningún orden determinado. Cada valor almacenado se asocia a una clave, de manera que para acceder a los valores se utilizan dichas claves. Los literales se escriben concatenando las parejas clave-valor mediante comas y envolviéndolo todo mediante llaves; cada una de las parejas se escribe separando la clave y el valor asociado mediante dos puntos. Por ejemplo:\n",
    "```python\n",
    "{\"Almería\": 19.9, \"Cádiz\": 19.1, \"Córdoba\": 19.1, \"Granada\": 16.6, \"Jaén\": 18.2, \"Huelva\": 19.0, \"Málaga\": 19.8, \"Sevilla\": 20.0}\n",
    "```\n",
    "Para acceder a un valor, debemos conocer la clave asociada. Los diccionarios son **mutables**. Observa el siguiente ejemplo de código:"
   ]
  },
  {
   "cell_type": "code",
   "execution_count": null,
   "metadata": {},
   "outputs": [],
   "source": [
    "temperaturas_por_provincias = {\"Almería\": 19.9, \"Cádiz\": 19.1, \"Córdoba\": 19.1, \"Granada\": 16.6, \"Jaén\": 18.2, \"Huelva\": 19.0, \"Málaga\": 19.8, \"Sevilla\": 20.0}\n",
    "print(\"Temperatura en Sevilla:\", temperaturas_por_provincias[\"Sevilla\"])\n",
    "temperaturas_por_provincias[\"Sevilla\"] = 21.0\n",
    "print(temperaturas_por_provincias)"
   ]
  },
  {
   "attachments": {},
   "cell_type": "markdown",
   "metadata": {},
   "source": [
    "### ¡Prueba tú!\n",
    "Los valores de un tipo contenedor pueden ser a su vez de otro tipo contenedor. Completa la siguiente declaración de variable para que almacene listas de jugadores de equipos de fútbol, asociando cada lista a una clave con el nombre del equipo en cuestión. Puedes representar a cada jugador mediante una tupla con su nombre, apellidos y edad, al estilo del <a href=\"#ejemplo_tupla\">ejemplo anterior</a>."
   ]
  },
  {
   "cell_type": "code",
   "execution_count": null,
   "metadata": {},
   "outputs": [],
   "source": [
    "equipos = {\"Sevilla\": [], \"Betis\": []}\n",
    "print(equipos)"
   ]
  },
  {
   "attachments": {},
   "cell_type": "markdown",
   "metadata": {},
   "source": [
    "#### 2.4.5. Operaciones con tipos contenedores  <a id=\"sec_operaciones\"></a>\n",
    "Dado que los tipos contenedores son tipos objeto, la mayoría de las operaciones con ellos se llevan a cabo mediante métodos. Más adelante haremos un repaso más detallado sobre los métodos disponibles para cada tipo contenedor, pero por ahora veremos cómo realizar las operaciones más básicas. \n"
   ]
  },
  {
   "cell_type": "code",
   "execution_count": null,
   "metadata": {},
   "outputs": [],
   "source": [
    "# Añadir un elemento a una lista, un conjunto o un diccionario\n",
    "temperaturas.append(29)\n",
    "print(temperaturas)\n",
    "\n",
    "temperaturas_conjunto.add(29)\n",
    "print(temperaturas_conjunto)\n",
    "\n",
    "temperaturas_por_provincias[\"Badajoz\"] = 15.8   # Basta con usar una clave que antes no existía\n",
    "print(temperaturas_por_provincias)"
   ]
  },
  {
   "cell_type": "code",
   "execution_count": null,
   "metadata": {},
   "outputs": [],
   "source": [
    "# Eliminar un elemento de una lista, un conjunto o un diccionario\n",
    "del(temperaturas[0])\n",
    "print(temperaturas)\n",
    "\n",
    "temperaturas_conjunto.remove(32)\n",
    "print(temperaturas_conjunto)\n",
    "\n",
    "del(temperaturas_por_provincias[\"Almería\"])\n",
    "print(temperaturas_por_provincias)"
   ]
  },
  {
   "cell_type": "code",
   "execution_count": null,
   "metadata": {},
   "outputs": [],
   "source": [
    "# Concatenar varias tuplas o listas\n",
    "print(jugador + (1.92, 81.2))\n",
    "\n",
    "print(temperaturas + temperaturas)\n",
    "print(temperaturas * 3)  # Concatenar consigo misma 3 veces"
   ]
  },
  {
   "cell_type": "code",
   "execution_count": null,
   "metadata": {},
   "outputs": [],
   "source": [
    "# Consultar el número de elementos de una tupla, lista, conjunto o diccionario\n",
    "print(len(jugador)) # Prueba a cambiar \"temperaturas\" por las variables de los otros tipos estructura"
   ]
  },
  {
   "cell_type": "code",
   "execution_count": null,
   "metadata": {},
   "outputs": [],
   "source": [
    "# Consultar si un elemento forma parte de una tupla, lista, conjunto o diccionario\n",
    "print(39 in temperaturas)  # Prueba a cambiar \"temperaturas\" por las variables de los otros tipos estructura"
   ]
  },
  {
   "attachments": {},
   "cell_type": "markdown",
   "metadata": {},
   "source": [
    "### ¡Prueba tú!"
   ]
  },
  {
   "cell_type": "code",
   "execution_count": null,
   "metadata": {},
   "outputs": [],
   "source": [
    "lista1 = [1, 2, 3, 4, 5]\n",
    "lista2 = [-1, -2, -3, -4, -5]\n",
    "\n",
    "# Añade un nuevo número a lista1\n",
    "\n",
    "# Elimina el último elemento de lista2\n",
    "\n",
    "# Obtén una nueva lista (lista3) formada por 3 repeticiones de la lista1 y una de la lista2\n",
    "\n",
    "# Muestra la nueva lista en pantalla junto con el número de elementos\n",
    "\n",
    "\n"
   ]
  },
  {
   "attachments": {},
   "cell_type": "markdown",
   "metadata": {},
   "source": [
    "Todos los tipos contenedores que hemos visto son **iterables**, es decir, podemos recorrer sus elementos mediante un bucle ``for`` (observa detenidamente el caso del diccionario, que es algo particular):"
   ]
  },
  {
   "cell_type": "code",
   "execution_count": null,
   "metadata": {},
   "outputs": [],
   "source": [
    "print(\"Tupla jugador:\")\n",
    "for campo in jugador:\n",
    "    print(campo)\n",
    "\n",
    "print(\"\\nLista de temperaturas:\")\n",
    "for t in temperaturas:\n",
    "    print(t)\n",
    "\n",
    "print(\"\\nConjunto de temperaturas\")\n",
    "for t in temperaturas_conjunto:\n",
    "    print(t)\n",
    "\n",
    "print(\"\\nDiccionario de temperaturas por provincias\")\n",
    "# Al recorrernos un diccionario, obtenemos las claves\n",
    "for provincia in temperaturas_por_provincias:\n",
    "    print(provincia, \"->\", temperaturas_por_provincias[provincia])"
   ]
  },
  {
   "attachments": {},
   "cell_type": "markdown",
   "metadata": {},
   "source": [
    "### 2.5 Tipos fecha y hora <a id=\"sec_datetime\"></a>"
   ]
  },
  {
   "attachments": {},
   "cell_type": "markdown",
   "metadata": {},
   "source": [
    "En Python, disponemos de varios tipos para representar y operar con fechas y horas. No se trata de tipos predefinidos, sino que sus definiciones están incluidas en el módulo ``datetime``. Por tanto, debemos importarlos cuando queramos utilizarlos en nuestros programas. \n",
    "\n",
    "Para representar fechas, disponemos del tipo `date`:"
   ]
  },
  {
   "cell_type": "code",
   "execution_count": null,
   "metadata": {},
   "outputs": [],
   "source": [
    "from datetime import date\n",
    "\n",
    "# Le pasamos al constructor de date el año, el mes y el día, en ese orden\n",
    "fecha = date(2015, 2, 1)\n",
    "print(fecha)"
   ]
  },
  {
   "cell_type": "code",
   "execution_count": null,
   "metadata": {},
   "outputs": [],
   "source": [
    "# O bien, podemos obtener el día actual, de esta forma\n",
    "fecha_actual = date.today()\n",
    "print(fecha_actual)"
   ]
  },
  {
   "cell_type": "code",
   "execution_count": null,
   "metadata": {},
   "outputs": [],
   "source": [
    "# Si queremos acceder a cada uno de los campos, usamos los atributos\n",
    "# day, month y year\n",
    "print(\"El día actual es\", fecha_actual.day)\n",
    "print(\"El mes actual es\", fecha_actual.month)\n",
    "print(\"El año actual es\", fecha_actual.year)"
   ]
  },
  {
   "cell_type": "code",
   "execution_count": null,
   "metadata": {},
   "outputs": [],
   "source": [
    "# También podemos preguntar por el día de la semana\n",
    "# (observa que es un método, no un atributo)\n",
    "# El 0 representa al lunes, y el 6 al domingo\n",
    "print(\"El día de la semana es\", fecha_actual.weekday())"
   ]
  },
  {
   "cell_type": "code",
   "execution_count": null,
   "metadata": {},
   "outputs": [],
   "source": [
    "# Los objetos de tipo fecha son comparables, por lo que podemos\n",
    "# usar operadores relacionales, como en otros tipos comparables\n",
    "if fecha_actual > fecha:\n",
    "    print(\"La fecha actual es posterior a\", fecha)"
   ]
  },
  {
   "cell_type": "code",
   "execution_count": null,
   "metadata": {},
   "outputs": [],
   "source": [
    "# Al restar dos fechas, se obtiene un objeto de tipo timedelta, que representa\n",
    "# el tiempo pasado entre ambas. \n",
    "# Podemos calcular cuántos días han pasado desde una fecha a otra:\n",
    "dias = (fecha_actual - fecha).days\n",
    "print(f\"Han pasado {dias} días desde {fecha} hasta {fecha_actual}\")"
   ]
  },
  {
   "attachments": {},
   "cell_type": "markdown",
   "metadata": {},
   "source": [
    "De forma similar, disponemos del tipo ``time`` para representar horas:"
   ]
  },
  {
   "cell_type": "code",
   "execution_count": null,
   "metadata": {},
   "outputs": [],
   "source": [
    "from datetime import time\n",
    "\n",
    "# Le pasamos al constructor de date la hora, los minutos y los segundos\n",
    "hora = time(17, 10, 59)\n",
    "print(hora)\n",
    "\n",
    "# Podemos obviar los segundos\n",
    "hora = time(17,10)\n",
    "print(hora)"
   ]
  },
  {
   "cell_type": "code",
   "execution_count": null,
   "metadata": {},
   "outputs": [],
   "source": [
    "# Si queremos acceder a cada uno de los campos, usamos los atributos\n",
    "# hour, minute y second\n",
    "print(\"El hora es\", hora.hour)\n",
    "print(\"Los minutos son\", hora.minute)\n",
    "print(\"Los segundos son\", hora.second)"
   ]
  },
  {
   "cell_type": "code",
   "execution_count": null,
   "metadata": {},
   "outputs": [],
   "source": [
    "# Los objetos de tipo hora también son comparables\n",
    "lista_horas = [\n",
    "    time(14, 23),\n",
    "    time(18, 19),\n",
    "    time(7, 22),\n",
    "    time(9, 58)\n",
    "]\n",
    "\n",
    "print(sorted(lista_horas))"
   ]
  },
  {
   "attachments": {},
   "cell_type": "markdown",
   "metadata": {},
   "source": [
    "Por último, también es posible trabajar con objetos que almacenen una fecha y una hora concretas, de manera conjunta. Para ello usaremos el tipo ``datetime``:"
   ]
  },
  {
   "cell_type": "code",
   "execution_count": null,
   "metadata": {},
   "outputs": [],
   "source": [
    "from datetime import datetime\n",
    "\n",
    "fecha1 = datetime(2023, 12, 31, 21, 30)\n",
    "print(\"Fecha 1:\", fecha1)\n",
    "\n",
    "fecha_actual = datetime.now()\n",
    "print(\"Fecha actual:\", fecha_actual)\n",
    "\n",
    "print(\"\\nAccedemos a los atributos de fecha1:\")\n",
    "print(fecha1.year)\n",
    "print(fecha1.month)\n",
    "print(fecha1.day)\n",
    "print(fecha1.hour)\n",
    "print(fecha1.minute)\n",
    "print(fecha1.second)\n",
    "\n",
    "print()\n",
    "if fecha_actual > fecha1:\n",
    "    print(\"La fecha actual es posterior a\", fecha1)\n",
    "else:\n",
    "    print(\"La fecha actual es igual o anterior a\", fecha1)"
   ]
  },
  {
   "cell_type": "markdown",
   "metadata": {},
   "source": [
    "### 2.6 NoneType <a id=\"sec_nonetype\"></a>\n",
    "\n",
    "Según vimos en el tema de \"Introducción a Python\", las funciones pueden devolver un valor mediante la instrucción ``return``. Decimos que el tipo de una función es el tipo del valor que devuelve dicha función. Por ejemplo, esta función sería de tipo ``int``:"
   ]
  },
  {
   "cell_type": "code",
   "execution_count": 10,
   "metadata": {},
   "outputs": [],
   "source": [
    "def doble(numero):\n",
    "    return 2 * numero"
   ]
  },
  {
   "cell_type": "markdown",
   "metadata": {},
   "source": [
    "Si llamamos a la función y guardamos el resultado en una variable, dicha variable será de tipo ``int``:"
   ]
  },
  {
   "cell_type": "code",
   "execution_count": null,
   "metadata": {},
   "outputs": [],
   "source": [
    "resultado = doble(5)\n",
    "type(resultado)"
   ]
  },
  {
   "cell_type": "markdown",
   "metadata": {},
   "source": [
    "Pero, ¿qué pasa con las funciones que no devuelven nada? ¿No tienen tipo? En Python, dichas funciones son de un tipo especial que representa la ausencia de tipo: ``NoneType``. Observa este ejemplo:"
   ]
  },
  {
   "cell_type": "code",
   "execution_count": null,
   "metadata": {},
   "outputs": [],
   "source": [
    "def saluda():\n",
    "    print(\"¡Hola, mundo!\")\n",
    "\n",
    "type(saluda())"
   ]
  },
  {
   "cell_type": "markdown",
   "metadata": {},
   "source": [
    "El tipo ``NoneType`` no tiene operaciones asociadas, y el único valor que pueden tomar las variables de dicho tipo es el valor ``None``:"
   ]
  },
  {
   "cell_type": "code",
   "execution_count": null,
   "metadata": {},
   "outputs": [],
   "source": [
    "resultado = saluda()\n",
    "print(resultado)"
   ]
  },
  {
   "attachments": {},
   "cell_type": "markdown",
   "metadata": {},
   "source": [
    "## 3. Expresiones  <a id=\"sec_expresiones\"></a>"
   ]
  },
  {
   "attachments": {},
   "cell_type": "markdown",
   "metadata": {},
   "source": [
    "Aunque en los ejemplos anteriores hemos inicializado las variables utilizando un literal de algún tipo, esta es sólo una de las **expresiones** que podemos emplear. Una expresión puede ser cualquiera de las siguientes cosas:\n",
    "\n",
    "* Un literal.\n",
    "* Una variable.\n",
    "* Un operador junto a sus operandos, cada uno de los cuales es a su vez una expresión.\n",
    "* Una llamada a una función o a un método, siempre que devuelvan algo; cada uno de los parámetros de la invocación a la función o al método es a su vez una expresión.\n",
    "* Unos paréntesis envolviendo a otra expresión.\n",
    "\n",
    "Fíjate en que la definición anterior es recursiva: por ejemplo, los operandos de una operación pueden ser a su vez expresiones. Esto hace que podamos tener expresiones tan largas como quieras imaginar (aunque por regla general intentaremos que no sean *demasiado* largas, pues eso las hace más difíciles de leer y entender).\n",
    "\n",
    "Mira los siguientes ejemplos de expresiones; si ejecutas cada trozo de código mostrado, obtendrás el **resultado** de la expresión. Decimos que la expresión es del **tipo** correspondiente al resultado de la misma. Prueba a llamar a la función predefinida *type* pasándole como parámetro cada una de las expresiones siguientes: al ejecutar, obtendrás el tipo de la expresión."
   ]
  },
  {
   "cell_type": "code",
   "execution_count": null,
   "metadata": {},
   "outputs": [],
   "source": [
    "# Un literal\n",
    "39"
   ]
  },
  {
   "cell_type": "code",
   "execution_count": null,
   "metadata": {},
   "outputs": [],
   "source": [
    "# Una variable\n",
    "edad"
   ]
  },
  {
   "cell_type": "code",
   "execution_count": null,
   "metadata": {},
   "outputs": [],
   "source": [
    "# Un operador junto a sus operando\n",
    "edad + 18"
   ]
  },
  {
   "cell_type": "code",
   "execution_count": null,
   "metadata": {},
   "outputs": [],
   "source": [
    "# Cada operando es a su vez una expresión, que puede estar formada por otros operadores y operandos\n",
    "edad + 18 < 30"
   ]
  },
  {
   "cell_type": "code",
   "execution_count": null,
   "metadata": {},
   "outputs": [],
   "source": [
    "# Una llamada a función (el parámetro, a su vez, es una expresión)\n",
    "len(temperaturas * 2)"
   ]
  },
  {
   "cell_type": "code",
   "execution_count": null,
   "metadata": {},
   "outputs": [],
   "source": [
    "# Podemos usar paréntesis para indicar el orden de ejecución de las operaciones en una expresión\n",
    "((len(temperaturas) - len(temperaturas_conjunto)) < 2) and ((edad % 2) != 0)"
   ]
  },
  {
   "attachments": {},
   "cell_type": "markdown",
   "metadata": {},
   "source": [
    "Cuando utilizamos una expresión para inicializar una variable, Python primero **evalúa** la expresión para obtener un resultado, y almacena dicho resultado en la variable:"
   ]
  },
  {
   "cell_type": "code",
   "execution_count": null,
   "metadata": {},
   "outputs": [],
   "source": [
    "nombre_completo = jugador[0] + \" \" + jugador[1]\n",
    "print(nombre_completo)"
   ]
  },
  {
   "attachments": {},
   "cell_type": "markdown",
   "metadata": {},
   "source": [
    "Igualmente podemos usar expresiones en los parámetros de las llamadas a funciones o a métodos, de manera que Python evalúa las expresiones antes de proceder a ejecutar la función o método:"
   ]
  },
  {
   "cell_type": "code",
   "execution_count": null,
   "metadata": {},
   "outputs": [],
   "source": [
    "print(\"El nombre completo del jugador es \" + nombre_completo + \".\")"
   ]
  },
  {
   "attachments": {},
   "cell_type": "markdown",
   "metadata": {},
   "source": [
    "### 3.1 Prioridad de las operaciones  <a id=\"sec_prioridad\"></a>"
   ]
  },
  {
   "attachments": {},
   "cell_type": "markdown",
   "metadata": {},
   "source": [
    "En uno de los ejemplos anteriores de expresiones hemos utilizado los paréntesis para indicarle a Python en qué orden debe evaluar la expresión. Pero, ¿qué ocurre si no empleamos paréntesis y la expresión contiene varios operadores y/o llamadas a funciones?\n",
    "\n",
    "En este caso, Python decide el orden según la **prioridad de las operaciones**. En el caso de los operadores lógicos y aritméticos, la prioridad coincide con el orden en que aparecen los ejemplos en este notebook (de menos a más prioridad). Así por ejemplo, la suma aritmética tiene menor prioridad que la multiplicación; por tanto, en la expresión `3 + 5 * 8` primero se evalúa `5 * 8` y posteriormente se evalúa `3 + 40`. \n",
    "\n",
    "En el caso de los operadores relacionales, todos tienen la misma prioridad. Si tenemos expresiones en las que aparezcan operadores de los tres tipos, en primer lugar se evalúan los operadores aritméticos, después los relacionales, y por último los lógicos. Trata de entender cómo se evalúa la siguiente expresión:"
   ]
  },
  {
   "cell_type": "code",
   "execution_count": null,
   "metadata": {},
   "outputs": [],
   "source": [
    "3 + 9 > 9 and 8 > 3"
   ]
  },
  {
   "attachments": {},
   "cell_type": "markdown",
   "metadata": {},
   "source": [
    "En cuanto a las llamadas a funciones y métodos, éstas siempre se evalúan en primer lugar. Tienen por tanto mayor prioridad que el resto de operaciones. Dado que para evaluar una llamada es necesario ejecutar el código de la función o el método correspondiente, lo primero que hará Python es evaluar las expresiones usadas en los parámetros de estas funciones.\n",
    "\n",
    "Veamos un ejemplo de lo anterior:"
   ]
  },
  {
   "cell_type": "code",
   "execution_count": null,
   "metadata": {},
   "outputs": [],
   "source": [
    "import math\n",
    "\n",
    "resultado = 5 + math.sqrt(10 * 10) < 20 - 2  \n",
    "print(resultado)"
   ]
  },
  {
   "attachments": {},
   "cell_type": "markdown",
   "metadata": {},
   "source": [
    "El orden de evaluación de la expresión `5 + math.sqrt(10 * 10) < 20 - 2` es el siguiente:\n",
    "* Se evalúa el parámetro de la llamada a la función math.sqrt: `10 * 10`, cuyo resultado es `100`.\n",
    "* Se evalúa la llamada a la función `math.sqrt(100)`, cuyo resultado es `10`.\n",
    "* Se evalúa la operación `5 + 10`, cuyo resultado es `15`.\n",
    "* Se evalúa la operación `20 - 2`, cuyo resultado es `18`.\n",
    "* Por último, se evalúa la operación `15 < 18`, cuyo resultado es `True`."
   ]
  },
  {
   "attachments": {},
   "cell_type": "markdown",
   "metadata": {},
   "source": [
    "Como recomendación final, ten en cuenta que si en algún momento dudas de la prioridad de los operadores que estás usando, siempre puedes usar los paréntesis para asegurarte de que estás escribiendo lo que realmente quieres expresar."
   ]
  },
  {
   "attachments": {},
   "cell_type": "markdown",
   "metadata": {},
   "source": [
    "### 3.2 Conversión de tipos  <a id=\"sec_conversion\"></a>"
   ]
  },
  {
   "attachments": {},
   "cell_type": "markdown",
   "metadata": {
    "collapsed": true
   },
   "source": [
    "Python tiene un **sistema fuerte de tipos**, lo que en pocas palabras significa que cada literal, variable o expresión que utilicemos tiene asociado un tipo determinado, y que Python nunca va a convertir ese tipo a otro tipo de manera automática. \n",
    "\n",
    "Para entender esto, ejecuta el siguiente ejemplo:\n",
    "<a id=\"malformada\"/>"
   ]
  },
  {
   "cell_type": "code",
   "execution_count": null,
   "metadata": {},
   "outputs": [],
   "source": [
    "resultado = 10 * 3.141519 - 19\n",
    "print(\"El resultado del cálculo es \" + resultado)"
   ]
  },
  {
   "attachments": {},
   "cell_type": "markdown",
   "metadata": {},
   "source": [
    "Como puedes observar, se ha producido un error (en concreto, un **TypeError**). Lo que nos dice el error en cuestión es que para poder realizar la operación de concatenación de cadenas, que aparece en la expresión `\"El resultado del cálculo es \" + resultado`, sería necesario que el segundo operador, `resultado`, fuera de tipo cadena (**str**). Esto no es así: `resultado` es de tipo **float**. Algunos lenguajes de programación realizan esta conversión de manera automática, convirtiendo el valor de resultado a una cadena de texto, antes de proceder a evaluar la expresión completa. **No es el caso de Python**: dado que tenemos un sistema fuerte de tipos, las conversiones de datos deben ser siempre explícitamente escritas por el programador.\n",
    "\n",
    "Para llevar a cabo una conversión del tipo de una expresión, debemos usar funciones predefinidas cuyos nombres coinciden con los nombres de los tipos básicos que hemos visto hasta ahora: **bool**, **int**, **float**, **str**, **tuple**, **list**, **set**, y **dict**. Para que el ejemplo anterior se pueda ejecutar, tendría que corregirse de la siguiente manera:"
   ]
  },
  {
   "cell_type": "code",
   "execution_count": null,
   "metadata": {},
   "outputs": [],
   "source": [
    "resultado = 10 * 3.141519 - 19\n",
    "print(\"El resultado del cálculo es \" + str(resultado))"
   ]
  },
  {
   "attachments": {},
   "cell_type": "markdown",
   "metadata": {},
   "source": [
    "Además del caso de la conversión de cualquier tipo a cadena, es también común la conversión de unos tipos contenedores a otros. Por ejemplo, si tengo una tupla puedo convertirla a lista:"
   ]
  },
  {
   "cell_type": "code",
   "execution_count": null,
   "metadata": {},
   "outputs": [],
   "source": [
    "print(jugador)\n",
    "jugador_lista = list(jugador)\n",
    "print(jugador_lista)"
   ]
  },
  {
   "attachments": {},
   "cell_type": "markdown",
   "metadata": {},
   "source": [
    "O si tengo una lista, puedo convertirla en un conjunto (con lo que de camino estaremos eliminando los elementos duplicados, de manera sencilla):"
   ]
  },
  {
   "cell_type": "code",
   "execution_count": null,
   "metadata": {},
   "outputs": [],
   "source": [
    "print(temperaturas)\n",
    "temperaturas_sin_duplicados = set(temperaturas)\n",
    "print(temperaturas_sin_duplicados)"
   ]
  },
  {
   "attachments": {},
   "cell_type": "markdown",
   "metadata": {},
   "source": [
    "No todas las conversiones se pueden realizar. En general, si la conversión es intuitiva, Python la llevará a cabo sin problemas. Pero si la conversión carece de sentido o no es intuitivamente clara, es posible que dé lugar a un error:"
   ]
  },
  {
   "cell_type": "code",
   "execution_count": null,
   "metadata": {},
   "outputs": [],
   "source": [
    "print(temperaturas)\n",
    "temperaturas_entero = int(temperaturas)\n",
    "print(temperaturas_entero)"
   ]
  },
  {
   "cell_type": "markdown",
   "metadata": {},
   "source": [
    "Una conversión de tipos que puede confundirnos es la que convierte una cadena a tipo lógico. Observa este experimento:"
   ]
  },
  {
   "cell_type": "code",
   "execution_count": null,
   "metadata": {},
   "outputs": [],
   "source": [
    "cadena = \"False\"\n",
    "logico = bool(cadena)\n",
    "print(\"El valor lógico obtenido es\", logico)"
   ]
  },
  {
   "cell_type": "markdown",
   "metadata": {},
   "source": [
    "En este caso, en contra de lo que nos diría la intuición, la conversión no funciona bien. La función ``bool`` sólo devuelve ``False`` si la cadena recibida está vacía, devolviendo ``True`` en cualquier otro caso. Por tanto, si realmente queremos convertir las cadenas ``\"False\"`` y ``\"True\"`` a sus correspondientes de tipo lógico, debemos utilizar un ``if``:"
   ]
  },
  {
   "cell_type": "code",
   "execution_count": null,
   "metadata": {},
   "outputs": [],
   "source": [
    "cadena = \"False\"\n",
    "\n",
    "if cadena == \"False\":\n",
    "    logico = False\n",
    "else:\n",
    "    logico = True   # Consideramos que la cadena siempre será \"False\" o \"True\"\n",
    "    \n",
    "print(\"El valor lógico obtenido es\", logico)"
   ]
  },
  {
   "cell_type": "markdown",
   "metadata": {},
   "source": [
    "#### 3.2.1. Conversión de fechas y horas  <a id=\"sec_conversionfechas\"></a>"
   ]
  },
  {
   "cell_type": "markdown",
   "metadata": {},
   "source": [
    "Hay un tipo de conversión que nos encontraremos en algunos ejercicios y que requiere una manera de proceder un tanto especial. Se trata de pasar de una cadena de texto que representa una fecha o una hora a un objeto de tipo `date`, `time` o `datetime`. Dado que la cadena de texto en cuestión puede venir en distintos formatos, es necesario usar una función de **parseo**, que nos proporciona el módulo `datetime`. La función en cuestión se llama `strptime` (acrónimo de *string parse time*). Esta función recibe dos parámetros: la cadena a convertir y el formato de la cadena. La cadena a convertir puede contener valores para día, mes, año, hora, minutos y segundos, además de otros caracteres que actúen como separadores. Por ejemplo, una fecha podría venir representada como `\"31/12/2023\"`, o puede que viniese como `\"2023-12-31\"` (observa que cambian el orden del día, mes y año, y el carácter usado como separador). \n",
    "\n",
    "Para indicarle el formato a la función `strptime` se usan unos códigos que indican qué representa cada valor de la cadena: `%d` representa el día, `%m` el mes, `%Y` el año, `%H` la hora, `%M` los minutos y `%S` los segundos. La referencia completa de códigos se puede ver en https://docs.python.org/3/library/datetime.html#strftime-and-strptime-format-codes.\n",
    "\n",
    "Veamos cómo parsear una fecha:"
   ]
  },
  {
   "cell_type": "code",
   "execution_count": null,
   "metadata": {},
   "outputs": [],
   "source": [
    "from datetime import datetime\n",
    "\n",
    "cadena = \"31/12/2023\"\n",
    "# La cadena de formato \"%d/%m/%Y\" indica que vienen\n",
    "# día, mes y año (en ese orden) separados por /\n",
    "fecha = datetime.strptime(cadena, \"%d/%m/%Y\").date()\n",
    "print(f\"El objeto date para la fecha '{cadena}' es: {fecha}\")\n",
    "print(\"El tipo del objeto fecha obtenido es\", type(fecha))"
   ]
  },
  {
   "cell_type": "markdown",
   "metadata": {},
   "source": [
    "Observa que la función `strptime` devuelve un objeto `datetime`, que representa una fecha y una hora. Como la cadena solo contiene la información de la fecha, aplicamos a este objeto el método `date` para quedarnos con la parte de la fecha."
   ]
  },
  {
   "cell_type": "markdown",
   "metadata": {},
   "source": [
    "Para las horas, sería así:"
   ]
  },
  {
   "cell_type": "code",
   "execution_count": null,
   "metadata": {},
   "outputs": [],
   "source": [
    "cadena = \"7:55:27\"\n",
    "\n",
    "hora = datetime.strptime(cadena, \"%H:%M:%S\").time()\n",
    "print(f\"El objeto time para la hora '{cadena}' es: {hora}\")\n",
    "print(\"El tipo del objeto hora obtenido es\", type(hora))"
   ]
  },
  {
   "cell_type": "markdown",
   "metadata": {},
   "source": [
    "En este caso la cadena solo contiene la información de la hora, por lo que aplicamos al objeto devuelto por `strptime` el método `time` para quedarnos con la parte de la hora."
   ]
  },
  {
   "cell_type": "markdown",
   "metadata": {},
   "source": [
    "Por último, podríamos tener en la cadena tanto la fecha como la hora. En ese caso, nos quedaríamos directamente con el valor devuelto por `strptime`."
   ]
  },
  {
   "cell_type": "code",
   "execution_count": null,
   "metadata": {},
   "outputs": [],
   "source": [
    "cadena = \"31/12/2023-7:55:27\"\n",
    "\n",
    "fechahora = datetime.strptime(cadena, \"%d/%m/%Y-%H:%M:%S\")\n",
    "print(f\"El objeto datetime para la fecha y hora '{cadena}' es: {fechahora}\")\n",
    "print(\"El tipo del objeto fechahora obtenido es\", type(fechahora))"
   ]
  },
  {
   "cell_type": "markdown",
   "metadata": {},
   "source": [
    "**Ten en cuenta que las cadenas de formato aquí utilizadas están adaptadas a los ejemplos mostrados**. Deberás adaptar dicho formato al tipo de cadena que desees parsear en cada ejercicio."
   ]
  },
  {
   "attachments": {},
   "cell_type": "markdown",
   "metadata": {},
   "source": [
    "### 3.3. Expresiones bien formadas <a id=\"sec_bienformadas\"></a>\n",
    "\n",
    "Decimos que una expresión está **bien formada** (o también, que es una expresión **correcta**) cuando se cumple que:\n",
    "* Los literales que aparecen en la expresión están correctamente escritos según las reglas que hemos visto.\n",
    "* Las variables que aparecen en la expresión han sido definidas previamente (o importadas mediante la instrucción `import`).\n",
    "* Los operadores que aparecen en la expresión aparecen aplicados al número correcto de operandos, y los tipos de las expresiones que funcionan como operandos son los adecuados para dichos operadores.\n",
    "* Las llamadas a funciones o métodos que aparecen en la expresión corresponden a funciones o métodos definidos previamente (o importados mediante la instrucción `import`). Además, el número y tipo de las expresiones utilizadas como parámetros de las llamadas son los esperados por dichas funciones y métodos.\n",
    "\n",
    "Si una expresión no está bien formada, Python devolverá un error al tratar de ejecutar el código. Por ejemplo, la expresión escrita dentro de la llamada a la función `print` en [este ejemplo](#malformada) es una expresión mal formada. El resto de expresiones que hemos visto y que no dan error al ser ejecutadas son expresiones bien formadas."
   ]
  },
  {
   "attachments": {},
   "cell_type": "markdown",
   "metadata": {},
   "source": [
    "### ¡Prueba tú!\n",
    "¿Sabrías identificar por qué razón las siguientes expresiones no están bien formadas? Trata de corregirlas."
   ]
  },
  {
   "cell_type": "code",
   "execution_count": null,
   "metadata": {},
   "outputs": [],
   "source": [
    "13'2 * 5"
   ]
  },
  {
   "cell_type": "code",
   "execution_count": null,
   "metadata": {},
   "outputs": [],
   "source": [
    "(temperatura[0] + temperatura[1]) / 2"
   ]
  },
  {
   "cell_type": "code",
   "execution_count": null,
   "metadata": {},
   "outputs": [],
   "source": [
    "\"Ajo\" * 3.1"
   ]
  },
  {
   "cell_type": "code",
   "execution_count": null,
   "metadata": {},
   "outputs": [],
   "source": [
    "abs(\"-1.2\")"
   ]
  },
  {
   "attachments": {},
   "cell_type": "markdown",
   "metadata": {},
   "source": [
    "# 4. Entrada y salida estándar <a id=\"sec_4\"></a>"
   ]
  },
  {
   "attachments": {},
   "cell_type": "markdown",
   "metadata": {},
   "source": [
    "## 4.1. Funciones input y print <a id=\"sec_4_1\"></a>"
   ]
  },
  {
   "attachments": {},
   "cell_type": "markdown",
   "metadata": {},
   "source": [
    "Por regla general, cuando ejecutamos un programa en Python llamamos **entrada estándar** al teclado de nuestro ordenador, y **salida estándar** a la pantalla. Como ya hemos visto en anteriores notebooks, podemos leer datos desde el teclado mediante la función **input**, y escribir en la pantalla mediante la función **print**:"
   ]
  },
  {
   "cell_type": "code",
   "execution_count": null,
   "metadata": {},
   "outputs": [],
   "source": [
    "print(\"==== Cálculo de una potencia =====\")\n",
    "base = int(input(\"Introduzca un número entero (base):\")) # La función predefinida input permite leer texto desde el teclado\n",
    "exponente = int(input(\"Introduzca un número entero (exponente):\"))\n",
    "\n",
    "print(\"El resultado de\", base, \"elevado a\", exponente, \"es\", base**exponente, '.')"
   ]
  },
  {
   "attachments": {},
   "cell_type": "markdown",
   "metadata": {},
   "source": [
    "La función **input** recibe opcionalmente un mensaje, que es mostrado al usuario para a continuación esperar que introduzca un texto. La ejecución del programa \"se espera\" en este punto, hasta que el usuario introduce el texto y pulsa la tecla *enter*. Entonces, **la función *input* devuelve el texto introducido por el usuario** (excluyendo la pulsación de la tecla *enter*, que no aparece en la cadena devuelta). Si en nuestro programa estábamos esperando un dato numérico, en lugar de una cadena, será necesario convertir la cadena al tipo deseado mediante alguna de las funciones de construcción de tipos que ya conocemos (por ejemplo, *int* para obtener un número entero o *float* para obtener un número real).\n",
    "\n",
    "Por su parte, la función **print** recibe una o varias expresiones por parámetros, y **muestra el resultado** de dichas expresiones en **pantalla**. Si el resultado de alguna de las expresiones es una cadena de texto, la muestra tal cual. Si el resultado de alguna de las expresiones es de cualquier otro tipo, la función *print* se encarga de convertir el resultado a cadena mediante el uso de la función *str*. Si recibe varias expresiones, por defecto *print* las muestra una tras otra, separadas por un espacio en blanco. Al finalizar de mostrar las expresiones, la ejecución de *print* finaliza imprimiendo un salto de línea; por consiguiente, la siguiente llamada a *print* escribirá en la siguiente línea de la pantalla. Ambas cosas, el carácter usado para separar las distintas expresiones y el carácter usado como finalizador, pueden cambiarse utilizando los parámetros opcionales adecuados:"
   ]
  },
  {
   "cell_type": "code",
   "execution_count": null,
   "metadata": {},
   "outputs": [],
   "source": [
    "import random\n",
    "numeros = [random.randint(1, 100) for _ in range(10)]\n",
    "print(\"Se han generado los siguientes números aleatorios: \")\n",
    "for numero in numeros:\n",
    "    print(numero) "
   ]
  },
  {
   "cell_type": "code",
   "execution_count": null,
   "metadata": {},
   "outputs": [],
   "source": [
    "texto = \"Muestrame con guiones\"\n",
    "for caracter in texto:\n",
    "    print('-' + caracter, end='') # Se indica a print que no concatene ninguna cadena al final del mensaje a mostrar"
   ]
  },
  {
   "attachments": {},
   "cell_type": "markdown",
   "metadata": {},
   "source": [
    "Aunque el uso de los parámetro opcionales *sep* y *end* nos da algunas opciones para obtener la salida que deseamos en pantalla, a veces se nos puede quedar corto. Por ejemplo, si queremos mostrar un mensaje formado por distintos trozos de texto y datos a extraer de variables o expresiones, puede que no siempre queramos usar el mismo separador entre cada dos expresiones. Un ejemplo sencillo lo tenemos en la siguiente sentencia que ya hemos escrito antes:"
   ]
  },
  {
   "cell_type": "code",
   "execution_count": null,
   "metadata": {},
   "outputs": [],
   "source": [
    "print(\"El resultado de\", base, \"elevado a\", exponente, \"es\", base**exponente, '.')"
   ]
  },
  {
   "attachments": {},
   "cell_type": "markdown",
   "metadata": {},
   "source": [
    "En este caso, nos interesa usar el espacio para separar los distintos trozos del mensaje a mostrar, salvo para el punto final, que debería aparecer a continuación del resultado de la expresión ``base**exponente``. Además, la forma en que las cadenas de texto y las expresiones se van intercalando en los parámetros del *print* complica un poco la legibilidad de la sentencia. Es por todo esto por lo que es apropiado usar el **formateo de cadenas** en estos casos."
   ]
  },
  {
   "attachments": {},
   "cell_type": "markdown",
   "metadata": {},
   "source": [
    "## 4.2. Formateo de cadenas <a id=\"sec_4_2\"></a>"
   ]
  },
  {
   "attachments": {},
   "cell_type": "markdown",
   "metadata": {},
   "source": [
    "Las **cadenas de formato** o **f-string** nos permiten intercalar en una cadena los resultados de diversas expresiones, eligiendo el orden o el formato en que se representan dichos resultados. Esto las convierte en una herramienta muy útil, especialmente  junto a *print* para mostrar mensajes más o menos complejos, con mucho más control sobre la salida obtenida del que tendríamos usando únicamente *print*. \n",
    "\n",
    "Veamos un ejemplo:"
   ]
  },
  {
   "cell_type": "code",
   "execution_count": null,
   "metadata": {},
   "outputs": [],
   "source": [
    "a = int(input('Introduce un número:'))\n",
    "b = int(input('Introduce un número:'))\n",
    "\n",
    "print(f'El resultado de {a} elevado a {b} es {a**b}.')"
   ]
  },
  {
   "attachments": {},
   "cell_type": "markdown",
   "metadata": {},
   "source": [
    "Podemos formatear los valores numéricos, por ejemplo indicando que queremos redondear a 2 decimales. Para ello, escribimos dos puntos después de la expresión, y a continuación indicaremos que sólo queremos mostrar dos decimales mediante la cadena ``.2``."
   ]
  },
  {
   "cell_type": "code",
   "execution_count": null,
   "metadata": {},
   "outputs": [],
   "source": [
    "print(f'El resultado de {a} entre {b} es {a/b:.2}')"
   ]
  },
  {
   "attachments": {},
   "cell_type": "markdown",
   "metadata": {},
   "source": [
    "También es posible conseguir que un dato ocupe un mínimo de caracteres, rellenando  los huecos con espacios si es necesario:"
   ]
  },
  {
   "cell_type": "code",
   "execution_count": null,
   "metadata": {},
   "outputs": [],
   "source": [
    "print(\"Mostrando los cuadrados y los cubos de los números del 1 al 5:\")\n",
    "for i in range(1,6):\n",
    "    print(f'{i} {i*i:2} {i*i*i:3}')"
   ]
  },
  {
   "attachments": {},
   "cell_type": "markdown",
   "metadata": {},
   "source": [
    "Si lo preferimos, podemos rellenar los huecos con ceros en lugar de espacios, como se muestra en este ejemplo:"
   ]
  },
  {
   "cell_type": "code",
   "execution_count": null,
   "metadata": {},
   "outputs": [],
   "source": [
    "print(\"Mostrando los cuadrados y los cubos de los números del 1 al 5:\")\n",
    "for i in range(1,6):\n",
    "    print(f'{i:03} {i*i:03} {i*i*i:03}')"
   ]
  },
  {
   "attachments": {},
   "cell_type": "markdown",
   "metadata": {},
   "source": [
    "# 5. Lectura y escritura de ficheros <a id=\"sec_5\"></a>"
   ]
  },
  {
   "attachments": {},
   "cell_type": "markdown",
   "metadata": {},
   "source": [
    "Muchas veces no es suficiente con la introducción de datos desde el teclado por parte del usuario. Como hemos visto en los ejercicios realizados a lo largo del curso, es muy habitual leer datos desde un fichero o archivo (que llamamos de entrada). Igualmente, es posible escribir datos en un fichero (que llamamos de salida).\n",
    "\n",
    "Tanto la lectura como la escritura de datos en un fichero se puede realizar de diversas formas:\n",
    "\n",
    "* Mediante cadenas de texto libres, en lo que llamamos **ficheros de texto**.\n",
    "* Mediante cadenas de texto de un formato predefinido, como es el caso de los ficheros **csv**.\n",
    "* Mediante algún formato estándar de intercambio de datos (por ejemplo, **json**), lo que nos permite guardar y recuperar más tarde fácilmente el contenido de las variables de nuestros programas. A este tipo de escrituras y lecturas las llamamos *serialización* y *deserialización*, respectivamente.\n",
    "* Mediante datos binarios, en lo que llamamos *ficheros binarios*. De esta forma, el programador tiene el control absoluto de los datos que se escriben o se leen de un fichero. Esto no lo veremos en esta asignatura."
   ]
  },
  {
   "attachments": {},
   "cell_type": "markdown",
   "metadata": {},
   "source": [
    "## 5.1. Apertura y cierre de ficheros <a id=\"sec_5_1\"></a>\n",
    "Lo primero que hay que hacer para poder trabajar con un fichero es abrirlo. Al abrir un fichero, establecemos la manera en que vamos a trabajar con él: si lo haremos en modo texto o modo binario, o si vamos a leer o escribir de él, entre otras cosas. \n",
    "\n",
    "La apertura de un fichero se realiza mediante la función **open**:"
   ]
  },
  {
   "cell_type": "code",
   "execution_count": null,
   "metadata": {},
   "outputs": [],
   "source": [
    "f = open('fichero.txt')"
   ]
  },
  {
   "attachments": {},
   "cell_type": "markdown",
   "metadata": {},
   "source": [
    "Si la apertura del fichero se lleva a cabo sin problemas, la función nos devuelve un **descriptor del fichero**. Usaremos esta variable más adelante para leer o escribir en el fichero.\n",
    "\n",
    "Por defecto, el fichero se abre en modo texto para lectura. Podemos cambiar el modo en que se abre el fichero mediante el parámetro opcional **mode**, en el que pasaremos una cadena formada por alguno(s) de los caracteres siguientes:\n",
    "* 'r': abre el fichero en modo lectura.\n",
    "* 'w': abre el fichero en modo escritura. Si el archivo existía, lo sobrescribe (es decir, primero es borrado).\n",
    "* 'a': abre el fichero en modo escritura. Si el archivo existía, las escrituras se añadirán al final del fichero.\n",
    "* 't': abre el fichero en modo texto. Es el modo por defecto, así que normalmente no lo indicaremos y se entenderá que lo abrimos en modo texto. Es el modo que usaremos siempre en nuestra asignatura.\n",
    "* 'b': abre el fichero en modo binario.\n",
    "\n",
    "Veamos como ejemplo cómo abrir un fichero de texto para escribir en él, sobrescribiéndolo si ya existía:"
   ]
  },
  {
   "cell_type": "code",
   "execution_count": null,
   "metadata": {},
   "outputs": [],
   "source": [
    "f2 = open('fichero_escritura.txt', mode='w')"
   ]
  },
  {
   "attachments": {},
   "cell_type": "markdown",
   "metadata": {},
   "source": [
    "Cuando abrimos un fichero de texto es importante que tengamos en cuenta la **codificación de caracteres** utilizada por el fichero. Existen diversos estándares, aunque el más utilizado hoy en día en el contexto de Internet es el **utf-8**. Será éste el que usaremos preferiblemente. Por defecto, la función *open* decide la codificación de caracteres en función de la configuración de nuestro sistema operativo. Para especificar explícitamente que se utilice *utf-8* lo haremos mediantes el parámetro opcional **encoding**:"
   ]
  },
  {
   "cell_type": "code",
   "execution_count": null,
   "metadata": {},
   "outputs": [],
   "source": [
    "f3 = open('fichero.txt', encoding='utf-8')"
   ]
  },
  {
   "attachments": {},
   "cell_type": "markdown",
   "metadata": {},
   "source": [
    "Cuando terminemos de trabajar con el fichero (por ejemplo, al acabar de leer su contenido), es importante **cerrarlo**. De esta forma liberamos el recurso para que puedan trabajar con él otros procesos de nuestra máquina, y también nos aseguramos de que las escrituras que hayamos realizado se llevan a cabo de manera efectiva en disco (ya que las escrituras suelen utilizar un buffer en memoria para mejorar la eficiencia). Para cerrar un fichero usamos el método **close** sobre el descriptor del fichero que queremos cerrar:"
   ]
  },
  {
   "cell_type": "code",
   "execution_count": null,
   "metadata": {},
   "outputs": [],
   "source": [
    "f.close()\n",
    "f2.close()\n",
    "f3.close()"
   ]
  },
  {
   "attachments": {},
   "cell_type": "markdown",
   "metadata": {},
   "source": [
    "Una forma de no olvidarnos de cerrar el fichero (algo muy habitual) es usar la sentencia **with**:"
   ]
  },
  {
   "cell_type": "code",
   "execution_count": null,
   "metadata": {},
   "outputs": [],
   "source": [
    "with open('fichero.txt', encoding='utf-8') as f:\n",
    "    print('Trabajamos con el fichero...')   "
   ]
  },
  {
   "attachments": {},
   "cell_type": "markdown",
   "metadata": {},
   "source": [
    "Una vez ejecutadas las instrucciones contenidas en el bloque *with*, el fichero es cerrado automáticamente. Esta variante tiene la ventaja además de que si se produce cualquier error mientras trabajamos con el fichero, que produzca la parada de la ejecución de nuestro programa, el fichero también es cerrado. Esto no ocurre si abrimos el fichero sin usar *with*."
   ]
  },
  {
   "attachments": {},
   "cell_type": "markdown",
   "metadata": {},
   "source": [
    "## 5.2. Lectura y escritura de texto libre <a id=\"sec_5_2\"></a>"
   ]
  },
  {
   "attachments": {},
   "cell_type": "markdown",
   "metadata": {},
   "source": [
    "Una vez abierto un fichero en modo texto, podemos leer todo el contenido y guardarlo en una variable de tipo cadena mediante el método **read**:"
   ]
  },
  {
   "cell_type": "code",
   "execution_count": null,
   "metadata": {},
   "outputs": [],
   "source": [
    "with open('fichero.txt', encoding='utf-8') as f:\n",
    "    contenido = f.read()\n",
    "    print(contenido)  # Mostramos el contenido del fichero"
   ]
  },
  {
   "attachments": {},
   "cell_type": "markdown",
   "metadata": {},
   "source": [
    "Aunque se puede hacer de esta forma, es más habitual leer los ficheros de texto línea a línea. De esta forma podemos procesar archivos muy grandes sin usar demasiada memoria. Para ello, podemos usar el descriptor del fichero dentro de un bucle *for*, como si se tratara de una secuencia de cadenas, de manera que en cada paso del bucle obtendremos la siguiente línea del fichero:"
   ]
  },
  {
   "cell_type": "code",
   "execution_count": null,
   "metadata": {},
   "outputs": [],
   "source": [
    "with open('fichero.txt', encoding='utf-8') as f:\n",
    "    for linea in f:\n",
    "        print(linea)"
   ]
  },
  {
   "attachments": {},
   "cell_type": "markdown",
   "metadata": {},
   "source": [
    "Observarás que en el ejemplo anterior se está visualizando cada línea separada con una línea vacía. Esto es así porque la línea leida del fichero incluye al final un salto de línea, y a su vez la función *print* incluye un salto de línea tras la cadena a mostrar. Si queremos mostrar el contenido del fichero con el mismo formato que en el ejemplo anterior, podríamos hacer esto:"
   ]
  },
  {
   "cell_type": "code",
   "execution_count": null,
   "metadata": {},
   "outputs": [],
   "source": [
    "with open('fichero.txt', encoding='utf-8') as f:\n",
    "    for linea in f:\n",
    "        print(linea, end='')"
   ]
  },
  {
   "attachments": {},
   "cell_type": "markdown",
   "metadata": {},
   "source": [
    "Para escribir texto en un fichero, usaremos el método **write** sobre el descriptor del fichero:"
   ]
  },
  {
   "cell_type": "code",
   "execution_count": null,
   "metadata": {},
   "outputs": [],
   "source": [
    "with open('fichero_escritura.txt', mode='w', encoding='utf-8') as f:\n",
    "    f.write('Este texto se almacenará en el fichero.')"
   ]
  },
  {
   "attachments": {},
   "cell_type": "markdown",
   "metadata": {},
   "source": [
    "Comprobemos si se ha realizado la escritura correctamente:"
   ]
  },
  {
   "cell_type": "code",
   "execution_count": null,
   "metadata": {},
   "outputs": [],
   "source": [
    "with open('fichero_escritura.txt', encoding='utf-8') as f:\n",
    "    contenido = f.read()\n",
    "    print(contenido)"
   ]
  },
  {
   "attachments": {},
   "cell_type": "markdown",
   "metadata": {},
   "source": [
    "## 5.3. Lectura y escritura de CSV <a id=\"sec_5_3\"></a>"
   ]
  },
  {
   "attachments": {},
   "cell_type": "markdown",
   "metadata": {},
   "source": [
    "Un tipo de fichero de texto que usamos en muchos ejercicios es el llamado formato **CSV** (por *Comma-Separated Values*). Estos ficheros se utilizan para almacenar datos de tipo tabular, al estilo de una hoja de cálculo. En este notebook se incluye un fichero con este formato, extraído del ejercicio \"Servicio de alquiler de bicicletas públicas de Sevilla (Sevici)\". Veamos un trozo de su contenido:"
   ]
  },
  {
   "cell_type": "code",
   "execution_count": null,
   "metadata": {},
   "outputs": [],
   "source": [
    "with open('estaciones.csv', encoding='utf-8') as f:\n",
    "    # Leemos las líneas del fichero\n",
    "    num_lineas = 0\n",
    "    for linea in f:  \n",
    "        print(linea, end='')\n",
    "        num_lineas += 1\n",
    "        if num_lineas == 10:   # Al llegar a las 10 líneas, paramos\n",
    "            break"
   ]
  },
  {
   "attachments": {},
   "cell_type": "markdown",
   "metadata": {},
   "source": [
    "Como puedes observar, los datos vienen expresados por columnas. Cada columna o atributo representa un dato concreto, y cada línea representa una tupla o registro de valores para cada uno de los atributos. \n",
    "\n",
    "Para poder trabajar con estos datos, lo normal es que necesitemos acceder a cada atributo de cada registro por separado. Si leemos el fichero línea a línea, podríamos acceder a cada atributo si rompemos la cadena en cada uno de los trozos separados por una coma. Pero esto es complicado y puede hacerse de manera mucho más sencilla utilizando el paquete **csv**."
   ]
  },
  {
   "cell_type": "code",
   "execution_count": null,
   "metadata": {},
   "outputs": [],
   "source": [
    "import csv # Hay que importar el paquete csv\n",
    "\n",
    "with open('estaciones.csv', encoding='utf-8') as f:\n",
    "    lector = csv.reader(f)\n",
    "    for registro in lector:\n",
    "        print(registro)\n",
    "        # Para este ejemplo, nos basta con ver el primer registro\n",
    "        break;"
   ]
  },
  {
   "attachments": {},
   "cell_type": "markdown",
   "metadata": {},
   "source": [
    "En el CSV que estamos procesando, la primera línea contiene los nombres de los atributos. No es por tanto un registro como tal (no contiene valores), por lo que lo habitual es saltárnoslo. Esto se puede conseguir de la siguiente forma:"
   ]
  },
  {
   "cell_type": "code",
   "execution_count": null,
   "metadata": {},
   "outputs": [],
   "source": [
    "with open('estaciones.csv', encoding='utf-8') as f:\n",
    "    lector = csv.reader(f)\n",
    "    next(lector) # Nos saltamos la cabecera del CSV\n",
    "    for registro in lector:\n",
    "        print(registro)\n",
    "        # Para este ejemplo, nos basta con ver el primer registro\n",
    "        break;"
   ]
  },
  {
   "attachments": {},
   "cell_type": "markdown",
   "metadata": {},
   "source": [
    "Normalmente, nos interesa almacenar los registros en alguna estructura de datos, para utilizarlos más adelante en nuestro programa. Podemos utilizar por ejemplo una lista para almacenar cada registro. Además, es conveniente que convirtamos cada atributo al tipo de datos de Python que mejor se adapte al tipo de dato que representa el atributo. En nuestro ejemplo, el primer atributo es una cadena de texto, los tres siguientes son números enteros, y los dos últimos números reales.\n",
    "\n",
    "Podríamos obtener una lista de tuplas, cada tupla representando un registro del fichero, de esta manera:"
   ]
  },
  {
   "cell_type": "code",
   "execution_count": null,
   "metadata": {},
   "outputs": [],
   "source": [
    "with open('estaciones.csv', encoding='utf-8') as f:\n",
    "    lector = csv.reader(f)\n",
    "    next(lector) # Nos saltamos la cabecera del CSV\n",
    "    registros = []\n",
    "    for name, slots, empty_slots, free_bikes, latitude, longitude in lector:        \n",
    "        slots = int(slots)\n",
    "        empty_slots = int(empty_slots)\n",
    "        free_bikes = int(free_bikes)\n",
    "        latitude = float(latitude)\n",
    "        longitude = float(longitude)\n",
    "        tupla = (name, slots, empty_slots, free_bikes, latitude, longitude)\n",
    "        registros.append(tupla)\n",
    "\n",
    "# Mostremos los 10 primeros registros\n",
    "for r in registros[:10]:\n",
    "    print(r)"
   ]
  },
  {
   "attachments": {},
   "cell_type": "markdown",
   "metadata": {},
   "source": [
    "Para que sea más sencillo y legible utilizar después las tuplas leídas, lo idea sería utilizar una tupla con nombre para representar los datos leídos del csv, de esta forma:"
   ]
  },
  {
   "cell_type": "code",
   "execution_count": null,
   "metadata": {},
   "outputs": [],
   "source": [
    "from collections import namedtuple\n",
    "EstacionSevici = namedtuple(\"EstacionSevici\", \"name, slots, empty_slots, free_bikes, latitude, longitude\")\n",
    "\n",
    "with open('estaciones.csv', encoding='utf-8') as f:\n",
    "    lector = csv.reader(f)\n",
    "    next(lector) # Nos saltamos la cabecera del CSV\n",
    "    registros = []\n",
    "    for name, slots, empty_slots, free_bikes, latitude, longitude in lector:        \n",
    "        slots = int(slots)\n",
    "        empty_slots = int(empty_slots)\n",
    "        free_bikes = int(free_bikes)\n",
    "        latitude = float(latitude)\n",
    "        longitude = float(longitude)\n",
    "        tupla = EstacionSevici(name, slots, empty_slots, free_bikes, latitude, longitude)\n",
    "        registros.append(tupla)\n",
    "\n",
    "# Mostremos los 10 primeros registros\n",
    "for r in registros[:10]:\n",
    "    print(r)"
   ]
  }
 ],
 "metadata": {
  "anaconda-cloud": {},
  "kernelspec": {
   "display_name": "Python 3",
   "language": "python",
   "name": "python3"
  },
  "language_info": {
   "codemirror_mode": {
    "name": "ipython",
    "version": 3
   },
   "file_extension": ".py",
   "mimetype": "text/x-python",
   "name": "python",
   "nbconvert_exporter": "python",
   "pygments_lexer": "ipython3",
   "version": "3.10.1"
  }
 },
 "nbformat": 4,
 "nbformat_minor": 2
}
